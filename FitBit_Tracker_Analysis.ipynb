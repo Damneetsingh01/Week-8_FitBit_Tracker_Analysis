{
  "nbformat": 4,
  "nbformat_minor": 0,
  "metadata": {
    "colab": {
      "provenance": [],
      "mount_file_id": "1moA_0glI8tCMyj5aVa43cZrTzfmO_o-x",
      "authorship_tag": "ABX9TyOtNIwN/DRzcYW7eUbhLPuT",
      "include_colab_link": true
    },
    "kernelspec": {
      "name": "python3",
      "display_name": "Python 3"
    },
    "language_info": {
      "name": "python"
    }
  },
  "cells": [
    {
      "cell_type": "markdown",
      "metadata": {
        "id": "view-in-github",
        "colab_type": "text"
      },
      "source": [
        "<a href=\"https://colab.research.google.com/github/Damneetsingh01/Week-8_FitBit_Tracker_Analysis/blob/main/FitBit_Tracker_Analysis.ipynb\" target=\"_parent\"><img src=\"https://colab.research.google.com/assets/colab-badge.svg\" alt=\"Open In Colab\"/></a>"
      ]
    },
    {
      "cell_type": "markdown",
      "source": [
        "# *Fitbit Consumer Behaviour Analysis*"
      ],
      "metadata": {
        "id": "aqeQ_B6kNnie"
      }
    },
    {
      "cell_type": "markdown",
      "source": [
        "**Content**\n",
        "\n",
        "Respondents generated this dataset to a distributed survey via Amazon Mechanical Turk between 03.12.2016 and 05.12.2016. Thirty eligible Fitbit users consented to submit personal tracker data, including minute-level output for physical activity, heart rate, and sleep monitoring. Individual reports can be parsed by export session ID (column A) or timestamp (column B). Variation between output represents the use of different Fitbit trackers and individual tracking behaviors/preferences."
      ],
      "metadata": {
        "id": "oMRQBCqhNwZ5"
      }
    },
    {
      "cell_type": "code",
      "execution_count": 86,
      "metadata": {
        "colab": {
          "base_uri": "https://localhost:8080/"
        },
        "id": "lHYEDpGnpNyh",
        "outputId": "ca98237b-6547-487b-e7c3-a481883aa634"
      },
      "outputs": [
        {
          "output_type": "stream",
          "name": "stdout",
          "text": [
            "Requirement already satisfied: pandas_profiling in /usr/local/lib/python3.10/dist-packages (3.6.6)\n",
            "Requirement already satisfied: ydata-profiling in /usr/local/lib/python3.10/dist-packages (from pandas_profiling) (4.7.0)\n",
            "Requirement already satisfied: scipy<1.12,>=1.4.1 in /usr/local/lib/python3.10/dist-packages (from ydata-profiling->pandas_profiling) (1.11.4)\n",
            "Requirement already satisfied: pandas!=1.4.0,<3,>1.1 in /usr/local/lib/python3.10/dist-packages (from ydata-profiling->pandas_profiling) (2.2.1)\n",
            "Requirement already satisfied: matplotlib<3.9,>=3.2 in /usr/local/lib/python3.10/dist-packages (from ydata-profiling->pandas_profiling) (3.7.1)\n",
            "Requirement already satisfied: pydantic>=2 in /usr/local/lib/python3.10/dist-packages (from ydata-profiling->pandas_profiling) (2.6.3)\n",
            "Requirement already satisfied: PyYAML<6.1,>=5.0.0 in /usr/local/lib/python3.10/dist-packages (from ydata-profiling->pandas_profiling) (6.0.1)\n",
            "Requirement already satisfied: jinja2<3.2,>=2.11.1 in /usr/local/lib/python3.10/dist-packages (from ydata-profiling->pandas_profiling) (3.1.3)\n",
            "Requirement already satisfied: visions[type_image_path]<0.7.7,>=0.7.5 in /usr/local/lib/python3.10/dist-packages (from ydata-profiling->pandas_profiling) (0.7.6)\n",
            "Requirement already satisfied: numpy<2,>=1.16.0 in /usr/local/lib/python3.10/dist-packages (from ydata-profiling->pandas_profiling) (1.25.2)\n",
            "Requirement already satisfied: htmlmin==0.1.12 in /usr/local/lib/python3.10/dist-packages (from ydata-profiling->pandas_profiling) (0.1.12)\n",
            "Requirement already satisfied: phik<0.13,>=0.11.1 in /usr/local/lib/python3.10/dist-packages (from ydata-profiling->pandas_profiling) (0.12.4)\n",
            "Requirement already satisfied: requests<3,>=2.24.0 in /usr/local/lib/python3.10/dist-packages (from ydata-profiling->pandas_profiling) (2.31.0)\n",
            "Requirement already satisfied: tqdm<5,>=4.48.2 in /usr/local/lib/python3.10/dist-packages (from ydata-profiling->pandas_profiling) (4.66.2)\n",
            "Requirement already satisfied: seaborn<0.13,>=0.10.1 in /usr/local/lib/python3.10/dist-packages (from ydata-profiling->pandas_profiling) (0.12.2)\n",
            "Requirement already satisfied: multimethod<2,>=1.4 in /usr/local/lib/python3.10/dist-packages (from ydata-profiling->pandas_profiling) (1.11.2)\n",
            "Requirement already satisfied: statsmodels<1,>=0.13.2 in /usr/local/lib/python3.10/dist-packages (from ydata-profiling->pandas_profiling) (0.14.1)\n",
            "Requirement already satisfied: typeguard<5,>=4.1.2 in /usr/local/lib/python3.10/dist-packages (from ydata-profiling->pandas_profiling) (4.2.1)\n",
            "Requirement already satisfied: imagehash==4.3.1 in /usr/local/lib/python3.10/dist-packages (from ydata-profiling->pandas_profiling) (4.3.1)\n",
            "Requirement already satisfied: wordcloud>=1.9.1 in /usr/local/lib/python3.10/dist-packages (from ydata-profiling->pandas_profiling) (1.9.3)\n",
            "Requirement already satisfied: dacite>=1.8 in /usr/local/lib/python3.10/dist-packages (from ydata-profiling->pandas_profiling) (1.8.1)\n",
            "Requirement already satisfied: numba<1,>=0.56.0 in /usr/local/lib/python3.10/dist-packages (from ydata-profiling->pandas_profiling) (0.58.1)\n",
            "Requirement already satisfied: PyWavelets in /usr/local/lib/python3.10/dist-packages (from imagehash==4.3.1->ydata-profiling->pandas_profiling) (1.5.0)\n",
            "Requirement already satisfied: pillow in /usr/local/lib/python3.10/dist-packages (from imagehash==4.3.1->ydata-profiling->pandas_profiling) (9.4.0)\n",
            "Requirement already satisfied: MarkupSafe>=2.0 in /usr/local/lib/python3.10/dist-packages (from jinja2<3.2,>=2.11.1->ydata-profiling->pandas_profiling) (2.1.5)\n",
            "Requirement already satisfied: contourpy>=1.0.1 in /usr/local/lib/python3.10/dist-packages (from matplotlib<3.9,>=3.2->ydata-profiling->pandas_profiling) (1.2.0)\n",
            "Requirement already satisfied: cycler>=0.10 in /usr/local/lib/python3.10/dist-packages (from matplotlib<3.9,>=3.2->ydata-profiling->pandas_profiling) (0.12.1)\n",
            "Requirement already satisfied: fonttools>=4.22.0 in /usr/local/lib/python3.10/dist-packages (from matplotlib<3.9,>=3.2->ydata-profiling->pandas_profiling) (4.49.0)\n",
            "Requirement already satisfied: kiwisolver>=1.0.1 in /usr/local/lib/python3.10/dist-packages (from matplotlib<3.9,>=3.2->ydata-profiling->pandas_profiling) (1.4.5)\n",
            "Requirement already satisfied: packaging>=20.0 in /usr/local/lib/python3.10/dist-packages (from matplotlib<3.9,>=3.2->ydata-profiling->pandas_profiling) (23.2)\n",
            "Requirement already satisfied: pyparsing>=2.3.1 in /usr/local/lib/python3.10/dist-packages (from matplotlib<3.9,>=3.2->ydata-profiling->pandas_profiling) (3.1.1)\n",
            "Requirement already satisfied: python-dateutil>=2.7 in /usr/local/lib/python3.10/dist-packages (from matplotlib<3.9,>=3.2->ydata-profiling->pandas_profiling) (2.8.2)\n",
            "Requirement already satisfied: llvmlite<0.42,>=0.41.0dev0 in /usr/local/lib/python3.10/dist-packages (from numba<1,>=0.56.0->ydata-profiling->pandas_profiling) (0.41.1)\n",
            "Requirement already satisfied: pytz>=2020.1 in /usr/local/lib/python3.10/dist-packages (from pandas!=1.4.0,<3,>1.1->ydata-profiling->pandas_profiling) (2023.4)\n",
            "Requirement already satisfied: tzdata>=2022.7 in /usr/local/lib/python3.10/dist-packages (from pandas!=1.4.0,<3,>1.1->ydata-profiling->pandas_profiling) (2024.1)\n",
            "Requirement already satisfied: joblib>=0.14.1 in /usr/local/lib/python3.10/dist-packages (from phik<0.13,>=0.11.1->ydata-profiling->pandas_profiling) (1.3.2)\n",
            "Requirement already satisfied: annotated-types>=0.4.0 in /usr/local/lib/python3.10/dist-packages (from pydantic>=2->ydata-profiling->pandas_profiling) (0.6.0)\n",
            "Requirement already satisfied: pydantic-core==2.16.3 in /usr/local/lib/python3.10/dist-packages (from pydantic>=2->ydata-profiling->pandas_profiling) (2.16.3)\n",
            "Requirement already satisfied: typing-extensions>=4.6.1 in /usr/local/lib/python3.10/dist-packages (from pydantic>=2->ydata-profiling->pandas_profiling) (4.10.0)\n",
            "Requirement already satisfied: charset-normalizer<4,>=2 in /usr/local/lib/python3.10/dist-packages (from requests<3,>=2.24.0->ydata-profiling->pandas_profiling) (3.3.2)\n",
            "Requirement already satisfied: idna<4,>=2.5 in /usr/local/lib/python3.10/dist-packages (from requests<3,>=2.24.0->ydata-profiling->pandas_profiling) (3.6)\n",
            "Requirement already satisfied: urllib3<3,>=1.21.1 in /usr/local/lib/python3.10/dist-packages (from requests<3,>=2.24.0->ydata-profiling->pandas_profiling) (2.0.7)\n",
            "Requirement already satisfied: certifi>=2017.4.17 in /usr/local/lib/python3.10/dist-packages (from requests<3,>=2.24.0->ydata-profiling->pandas_profiling) (2024.2.2)\n",
            "Requirement already satisfied: patsy>=0.5.4 in /usr/local/lib/python3.10/dist-packages (from statsmodels<1,>=0.13.2->ydata-profiling->pandas_profiling) (0.5.6)\n",
            "Requirement already satisfied: attrs>=19.3.0 in /usr/local/lib/python3.10/dist-packages (from visions[type_image_path]<0.7.7,>=0.7.5->ydata-profiling->pandas_profiling) (23.2.0)\n",
            "Requirement already satisfied: networkx>=2.4 in /usr/local/lib/python3.10/dist-packages (from visions[type_image_path]<0.7.7,>=0.7.5->ydata-profiling->pandas_profiling) (3.2.1)\n",
            "Requirement already satisfied: six in /usr/local/lib/python3.10/dist-packages (from patsy>=0.5.4->statsmodels<1,>=0.13.2->ydata-profiling->pandas_profiling) (1.16.0)\n"
          ]
        }
      ],
      "source": [
        "!pip install pandas_profiling"
      ]
    },
    {
      "cell_type": "markdown",
      "source": [
        "* Importing the librariers"
      ],
      "metadata": {
        "id": "HUpmzaKAN3kC"
      }
    },
    {
      "cell_type": "code",
      "source": [
        "import numpy as np\n",
        "import pandas as pd\n",
        "import seaborn as sns\n",
        "import matplotlib.pyplot as plt\n"
      ],
      "metadata": {
        "id": "gs-QcClfNk5h"
      },
      "execution_count": 87,
      "outputs": []
    },
    {
      "cell_type": "markdown",
      "source": [
        "* Loading the Daily Datasets"
      ],
      "metadata": {
        "id": "X6pmLVARYqQR"
      }
    },
    {
      "cell_type": "code",
      "source": [
        "daily_activity = pd.read_csv(\"/content/dailyActivity_merged.csv\")\n",
        "daily_calories = pd.read_csv(\"/content/dailyCalories_merged.csv\")\n",
        "daily_intensities = pd.read_csv(\"/content/dailyIntensities_merged.csv\")\n",
        "daily_steps = pd.read_csv(\"/content/dailySteps_merged.csv\")"
      ],
      "metadata": {
        "id": "CrMH8JqaYvRq"
      },
      "execution_count": 88,
      "outputs": []
    },
    {
      "cell_type": "markdown",
      "source": [
        "* Loading the hourly Datasets"
      ],
      "metadata": {
        "id": "PoIKUfNZZO4i"
      }
    },
    {
      "cell_type": "code",
      "source": [
        "hourly_calories = pd.read_csv(\"/content/hourlyCalories_merged.csv\")\n",
        "hourly_steps = pd.read_csv(\"/content/hourlySteps_merged.csv\")\n",
        "hourly_intensities = pd.read_csv(\"/content/hourlyIntensities_merged.csv\")"
      ],
      "metadata": {
        "id": "6iP-1-I3lwHk"
      },
      "execution_count": 89,
      "outputs": []
    },
    {
      "cell_type": "markdown",
      "source": [
        "* Loading the minutes Datasets"
      ],
      "metadata": {
        "id": "SzHcDKJKmGj_"
      }
    },
    {
      "cell_type": "code",
      "source": [
        "minutes_calories = pd.read_csv(\"/content/minuteCaloriesNarrow_merged.csv\")\n",
        "minutes_intensities = pd.read_csv(\"/content/minuteIntensitiesNarrow_merged.csv\")\n",
        "minutes_steps = pd.read_csv(\"/content/minuteStepsNarrow_merged.csv\")\n",
        "minutes_mets = pd.read_csv(\"/content/minuteMETsNarrow_merged.csv\")\n",
        "minutes_sleep = pd.read_csv(\"/content/minuteSleep_merged.csv\")"
      ],
      "metadata": {
        "id": "-WVWEp2TmKqQ"
      },
      "execution_count": 90,
      "outputs": []
    },
    {
      "cell_type": "markdown",
      "source": [
        "* Loading Other Datasets\n"
      ],
      "metadata": {
        "id": "v-xGqGu0n-4s"
      }
    },
    {
      "cell_type": "code",
      "source": [
        "sleep_day = pd.read_csv(\"/content/sleepDay_merged.csv\")\n",
        "weight_log = pd.read_csv(\"/content/weightLogInfo_merged.csv\")\n",
        "heart_rate = pd.read_csv(\"/content/heartrate_seconds_merged.csv\")"
      ],
      "metadata": {
        "id": "AqEQ3dMerSA1"
      },
      "execution_count": 91,
      "outputs": []
    },
    {
      "cell_type": "markdown",
      "source": [
        "* Creating The Copies"
      ],
      "metadata": {
        "id": "30bokluarx_9"
      }
    },
    {
      "cell_type": "code",
      "source": [
        "# Daily Datasets\n",
        "da = daily_activity.copy()\n",
        "dc = daily_calories.copy()\n",
        "di = daily_intensities.copy()\n",
        "ds = daily_steps.copy()\n",
        "\n",
        "# Hourly Datasets\n",
        "hc = hourly_calories.copy()\n",
        "hi = hourly_intensities.copy()\n",
        "hs = hourly_steps.copy()\n",
        "\n",
        "# Minutes Datasets\n",
        "mc = minutes_calories.copy()\n",
        "mi = minutes_intensities.copy()\n",
        "mst = minutes_steps.copy()\n",
        "mm = minutes_mets.copy()\n",
        "msl = minutes_sleep.copy()\n",
        "\n",
        "# Other Datasets\n",
        "sd = sleep_day.copy()\n",
        "wl = weight_log.copy()\n",
        "hr = heart_rate.copy()\n"
      ],
      "metadata": {
        "id": "WIDkulPCr0qG"
      },
      "execution_count": 92,
      "outputs": []
    },
    {
      "cell_type": "markdown",
      "source": [
        "# *Data Cleaning*"
      ],
      "metadata": {
        "id": "WYiRthentQEN"
      }
    },
    {
      "cell_type": "markdown",
      "source": [
        "* Getting the 5 datasets of Daily Datasets"
      ],
      "metadata": {
        "id": "MIstp4jktcRB"
      }
    },
    {
      "cell_type": "code",
      "source": [
        "print(da.head())\n",
        "print(dc.head())\n",
        "print(di.head())\n",
        "print(ds.head())"
      ],
      "metadata": {
        "colab": {
          "base_uri": "https://localhost:8080/"
        },
        "id": "fBnT3JXZtW8M",
        "outputId": "399342a4-ab71-4202-c612-08502be54264"
      },
      "execution_count": 93,
      "outputs": [
        {
          "output_type": "stream",
          "name": "stdout",
          "text": [
            "           Id ActivityDate  TotalSteps  TotalDistance  TrackerDistance  \\\n",
            "0  1503960366    4/12/2016       13162           8.50             8.50   \n",
            "1  1503960366    4/13/2016       10735           6.97             6.97   \n",
            "2  1503960366    4/14/2016       10460           6.74             6.74   \n",
            "3  1503960366    4/15/2016        9762           6.28             6.28   \n",
            "4  1503960366    4/16/2016       12669           8.16             8.16   \n",
            "\n",
            "   LoggedActivitiesDistance  VeryActiveDistance  ModeratelyActiveDistance  \\\n",
            "0                       0.0                1.88                      0.55   \n",
            "1                       0.0                1.57                      0.69   \n",
            "2                       0.0                2.44                      0.40   \n",
            "3                       0.0                2.14                      1.26   \n",
            "4                       0.0                2.71                      0.41   \n",
            "\n",
            "   LightActiveDistance  SedentaryActiveDistance  VeryActiveMinutes  \\\n",
            "0                 6.06                      0.0                 25   \n",
            "1                 4.71                      0.0                 21   \n",
            "2                 3.91                      0.0                 30   \n",
            "3                 2.83                      0.0                 29   \n",
            "4                 5.04                      0.0                 36   \n",
            "\n",
            "   FairlyActiveMinutes  LightlyActiveMinutes  SedentaryMinutes  Calories  \n",
            "0                   13                   328               728      1985  \n",
            "1                   19                   217               776      1797  \n",
            "2                   11                   181              1218      1776  \n",
            "3                   34                   209               726      1745  \n",
            "4                   10                   221               773      1863  \n",
            "           Id ActivityDay  Calories\n",
            "0  1503960366   4/12/2016      1985\n",
            "1  1503960366   4/13/2016      1797\n",
            "2  1503960366   4/14/2016      1776\n",
            "3  1503960366   4/15/2016      1745\n",
            "4  1503960366   4/16/2016      1863\n",
            "           Id ActivityDay  SedentaryMinutes  LightlyActiveMinutes  \\\n",
            "0  1503960366   4/12/2016               728                   328   \n",
            "1  1503960366   4/13/2016               776                   217   \n",
            "2  1503960366   4/14/2016              1218                   181   \n",
            "3  1503960366   4/15/2016               726                   209   \n",
            "4  1503960366   4/16/2016               773                   221   \n",
            "\n",
            "   FairlyActiveMinutes  VeryActiveMinutes  SedentaryActiveDistance  \\\n",
            "0                   13                 25                      0.0   \n",
            "1                   19                 21                      0.0   \n",
            "2                   11                 30                      0.0   \n",
            "3                   34                 29                      0.0   \n",
            "4                   10                 36                      0.0   \n",
            "\n",
            "   LightActiveDistance  ModeratelyActiveDistance  VeryActiveDistance  \n",
            "0                 6.06                      0.55                1.88  \n",
            "1                 4.71                      0.69                1.57  \n",
            "2                 3.91                      0.40                2.44  \n",
            "3                 2.83                      1.26                2.14  \n",
            "4                 5.04                      0.41                2.71  \n",
            "           Id ActivityDay  StepTotal\n",
            "0  1503960366   4/12/2016      13162\n",
            "1  1503960366   4/13/2016      10735\n",
            "2  1503960366   4/14/2016      10460\n",
            "3  1503960366   4/15/2016       9762\n",
            "4  1503960366   4/16/2016      12669\n"
          ]
        }
      ]
    },
    {
      "cell_type": "markdown",
      "source": [
        "* Getting Information about Daily Datasets"
      ],
      "metadata": {
        "id": "quI49VnnuLk8"
      }
    },
    {
      "cell_type": "code",
      "source": [
        "print(da.info())\n",
        "print(dc.info())\n",
        "print(di.info())\n",
        "print(ds.info())"
      ],
      "metadata": {
        "colab": {
          "base_uri": "https://localhost:8080/"
        },
        "id": "tXECCqWPuQqt",
        "outputId": "383c443e-c182-4c36-9512-fb6142e083c2"
      },
      "execution_count": 94,
      "outputs": [
        {
          "output_type": "stream",
          "name": "stdout",
          "text": [
            "<class 'pandas.core.frame.DataFrame'>\n",
            "RangeIndex: 940 entries, 0 to 939\n",
            "Data columns (total 15 columns):\n",
            " #   Column                    Non-Null Count  Dtype  \n",
            "---  ------                    --------------  -----  \n",
            " 0   Id                        940 non-null    int64  \n",
            " 1   ActivityDate              940 non-null    object \n",
            " 2   TotalSteps                940 non-null    int64  \n",
            " 3   TotalDistance             940 non-null    float64\n",
            " 4   TrackerDistance           940 non-null    float64\n",
            " 5   LoggedActivitiesDistance  940 non-null    float64\n",
            " 6   VeryActiveDistance        940 non-null    float64\n",
            " 7   ModeratelyActiveDistance  940 non-null    float64\n",
            " 8   LightActiveDistance       940 non-null    float64\n",
            " 9   SedentaryActiveDistance   940 non-null    float64\n",
            " 10  VeryActiveMinutes         940 non-null    int64  \n",
            " 11  FairlyActiveMinutes       940 non-null    int64  \n",
            " 12  LightlyActiveMinutes      940 non-null    int64  \n",
            " 13  SedentaryMinutes          940 non-null    int64  \n",
            " 14  Calories                  940 non-null    int64  \n",
            "dtypes: float64(7), int64(7), object(1)\n",
            "memory usage: 110.3+ KB\n",
            "None\n",
            "<class 'pandas.core.frame.DataFrame'>\n",
            "RangeIndex: 940 entries, 0 to 939\n",
            "Data columns (total 3 columns):\n",
            " #   Column       Non-Null Count  Dtype \n",
            "---  ------       --------------  ----- \n",
            " 0   Id           940 non-null    int64 \n",
            " 1   ActivityDay  940 non-null    object\n",
            " 2   Calories     940 non-null    int64 \n",
            "dtypes: int64(2), object(1)\n",
            "memory usage: 22.2+ KB\n",
            "None\n",
            "<class 'pandas.core.frame.DataFrame'>\n",
            "RangeIndex: 940 entries, 0 to 939\n",
            "Data columns (total 10 columns):\n",
            " #   Column                    Non-Null Count  Dtype  \n",
            "---  ------                    --------------  -----  \n",
            " 0   Id                        940 non-null    int64  \n",
            " 1   ActivityDay               940 non-null    object \n",
            " 2   SedentaryMinutes          940 non-null    int64  \n",
            " 3   LightlyActiveMinutes      940 non-null    int64  \n",
            " 4   FairlyActiveMinutes       940 non-null    int64  \n",
            " 5   VeryActiveMinutes         940 non-null    int64  \n",
            " 6   SedentaryActiveDistance   940 non-null    float64\n",
            " 7   LightActiveDistance       940 non-null    float64\n",
            " 8   ModeratelyActiveDistance  940 non-null    float64\n",
            " 9   VeryActiveDistance        940 non-null    float64\n",
            "dtypes: float64(4), int64(5), object(1)\n",
            "memory usage: 73.6+ KB\n",
            "None\n",
            "<class 'pandas.core.frame.DataFrame'>\n",
            "RangeIndex: 940 entries, 0 to 939\n",
            "Data columns (total 3 columns):\n",
            " #   Column       Non-Null Count  Dtype \n",
            "---  ------       --------------  ----- \n",
            " 0   Id           940 non-null    int64 \n",
            " 1   ActivityDay  940 non-null    object\n",
            " 2   StepTotal    940 non-null    int64 \n",
            "dtypes: int64(2), object(1)\n",
            "memory usage: 22.2+ KB\n",
            "None\n"
          ]
        }
      ]
    },
    {
      "cell_type": "markdown",
      "source": [
        "* As their are no null values,so we can convert neccessary columns to 'datetime' type"
      ],
      "metadata": {
        "id": "siunOlS3ufRs"
      }
    },
    {
      "cell_type": "code",
      "source": [
        "da['ActivityDate'] = pd.to_datetime(da['ActivityDate'])\n",
        "dc['ActivityDay'] = pd.to_datetime(dc['ActivityDay'])\n",
        "di['ActivityDay'] = pd.to_datetime(di['ActivityDay'])\n",
        "ds['ActivityDay'] = pd.to_datetime(ds['ActivityDay'])\n"
      ],
      "metadata": {
        "id": "mMk-1HvFuxOG"
      },
      "execution_count": 95,
      "outputs": []
    },
    {
      "cell_type": "markdown",
      "source": [
        "* Merging the three daily-datasets based on 'ActivityDay' and 'Id'"
      ],
      "metadata": {
        "id": "2j2zI-ouvBJl"
      }
    },
    {
      "cell_type": "code",
      "source": [
        "merged_daily = pd.merge(di,dc,on = ['ActivityDay','Id'])\n",
        "merged_daily = pd.merge(merged_daily, ds, on=['ActivityDay', 'Id'])\n",
        "merged_daily = pd.merge(merged_daily, da[['Id', 'TotalDistance', 'TrackerDistance', 'LoggedActivitiesDistance']], on='Id', how='left')\n",
        "merged_daily.head()"
      ],
      "metadata": {
        "colab": {
          "base_uri": "https://localhost:8080/",
          "height": 226
        },
        "id": "4AKfShIbvCPm",
        "outputId": "72f3424d-1d95-42f9-903b-c3f7492aed66"
      },
      "execution_count": 96,
      "outputs": [
        {
          "output_type": "execute_result",
          "data": {
            "text/plain": [
              "           Id ActivityDay  SedentaryMinutes  LightlyActiveMinutes  \\\n",
              "0  1503960366  2016-04-12               728                   328   \n",
              "1  1503960366  2016-04-12               728                   328   \n",
              "2  1503960366  2016-04-12               728                   328   \n",
              "3  1503960366  2016-04-12               728                   328   \n",
              "4  1503960366  2016-04-12               728                   328   \n",
              "\n",
              "   FairlyActiveMinutes  VeryActiveMinutes  SedentaryActiveDistance  \\\n",
              "0                   13                 25                      0.0   \n",
              "1                   13                 25                      0.0   \n",
              "2                   13                 25                      0.0   \n",
              "3                   13                 25                      0.0   \n",
              "4                   13                 25                      0.0   \n",
              "\n",
              "   LightActiveDistance  ModeratelyActiveDistance  VeryActiveDistance  \\\n",
              "0                 6.06                      0.55                1.88   \n",
              "1                 6.06                      0.55                1.88   \n",
              "2                 6.06                      0.55                1.88   \n",
              "3                 6.06                      0.55                1.88   \n",
              "4                 6.06                      0.55                1.88   \n",
              "\n",
              "   Calories  StepTotal  TotalDistance  TrackerDistance  \\\n",
              "0      1985      13162           8.50             8.50   \n",
              "1      1985      13162           6.97             6.97   \n",
              "2      1985      13162           6.74             6.74   \n",
              "3      1985      13162           6.28             6.28   \n",
              "4      1985      13162           8.16             8.16   \n",
              "\n",
              "   LoggedActivitiesDistance  \n",
              "0                       0.0  \n",
              "1                       0.0  \n",
              "2                       0.0  \n",
              "3                       0.0  \n",
              "4                       0.0  "
            ],
            "text/html": [
              "\n",
              "  <div id=\"df-aa11ffa2-9ae7-4d03-8ecf-999091ab343a\" class=\"colab-df-container\">\n",
              "    <div>\n",
              "<style scoped>\n",
              "    .dataframe tbody tr th:only-of-type {\n",
              "        vertical-align: middle;\n",
              "    }\n",
              "\n",
              "    .dataframe tbody tr th {\n",
              "        vertical-align: top;\n",
              "    }\n",
              "\n",
              "    .dataframe thead th {\n",
              "        text-align: right;\n",
              "    }\n",
              "</style>\n",
              "<table border=\"1\" class=\"dataframe\">\n",
              "  <thead>\n",
              "    <tr style=\"text-align: right;\">\n",
              "      <th></th>\n",
              "      <th>Id</th>\n",
              "      <th>ActivityDay</th>\n",
              "      <th>SedentaryMinutes</th>\n",
              "      <th>LightlyActiveMinutes</th>\n",
              "      <th>FairlyActiveMinutes</th>\n",
              "      <th>VeryActiveMinutes</th>\n",
              "      <th>SedentaryActiveDistance</th>\n",
              "      <th>LightActiveDistance</th>\n",
              "      <th>ModeratelyActiveDistance</th>\n",
              "      <th>VeryActiveDistance</th>\n",
              "      <th>Calories</th>\n",
              "      <th>StepTotal</th>\n",
              "      <th>TotalDistance</th>\n",
              "      <th>TrackerDistance</th>\n",
              "      <th>LoggedActivitiesDistance</th>\n",
              "    </tr>\n",
              "  </thead>\n",
              "  <tbody>\n",
              "    <tr>\n",
              "      <th>0</th>\n",
              "      <td>1503960366</td>\n",
              "      <td>2016-04-12</td>\n",
              "      <td>728</td>\n",
              "      <td>328</td>\n",
              "      <td>13</td>\n",
              "      <td>25</td>\n",
              "      <td>0.0</td>\n",
              "      <td>6.06</td>\n",
              "      <td>0.55</td>\n",
              "      <td>1.88</td>\n",
              "      <td>1985</td>\n",
              "      <td>13162</td>\n",
              "      <td>8.50</td>\n",
              "      <td>8.50</td>\n",
              "      <td>0.0</td>\n",
              "    </tr>\n",
              "    <tr>\n",
              "      <th>1</th>\n",
              "      <td>1503960366</td>\n",
              "      <td>2016-04-12</td>\n",
              "      <td>728</td>\n",
              "      <td>328</td>\n",
              "      <td>13</td>\n",
              "      <td>25</td>\n",
              "      <td>0.0</td>\n",
              "      <td>6.06</td>\n",
              "      <td>0.55</td>\n",
              "      <td>1.88</td>\n",
              "      <td>1985</td>\n",
              "      <td>13162</td>\n",
              "      <td>6.97</td>\n",
              "      <td>6.97</td>\n",
              "      <td>0.0</td>\n",
              "    </tr>\n",
              "    <tr>\n",
              "      <th>2</th>\n",
              "      <td>1503960366</td>\n",
              "      <td>2016-04-12</td>\n",
              "      <td>728</td>\n",
              "      <td>328</td>\n",
              "      <td>13</td>\n",
              "      <td>25</td>\n",
              "      <td>0.0</td>\n",
              "      <td>6.06</td>\n",
              "      <td>0.55</td>\n",
              "      <td>1.88</td>\n",
              "      <td>1985</td>\n",
              "      <td>13162</td>\n",
              "      <td>6.74</td>\n",
              "      <td>6.74</td>\n",
              "      <td>0.0</td>\n",
              "    </tr>\n",
              "    <tr>\n",
              "      <th>3</th>\n",
              "      <td>1503960366</td>\n",
              "      <td>2016-04-12</td>\n",
              "      <td>728</td>\n",
              "      <td>328</td>\n",
              "      <td>13</td>\n",
              "      <td>25</td>\n",
              "      <td>0.0</td>\n",
              "      <td>6.06</td>\n",
              "      <td>0.55</td>\n",
              "      <td>1.88</td>\n",
              "      <td>1985</td>\n",
              "      <td>13162</td>\n",
              "      <td>6.28</td>\n",
              "      <td>6.28</td>\n",
              "      <td>0.0</td>\n",
              "    </tr>\n",
              "    <tr>\n",
              "      <th>4</th>\n",
              "      <td>1503960366</td>\n",
              "      <td>2016-04-12</td>\n",
              "      <td>728</td>\n",
              "      <td>328</td>\n",
              "      <td>13</td>\n",
              "      <td>25</td>\n",
              "      <td>0.0</td>\n",
              "      <td>6.06</td>\n",
              "      <td>0.55</td>\n",
              "      <td>1.88</td>\n",
              "      <td>1985</td>\n",
              "      <td>13162</td>\n",
              "      <td>8.16</td>\n",
              "      <td>8.16</td>\n",
              "      <td>0.0</td>\n",
              "    </tr>\n",
              "  </tbody>\n",
              "</table>\n",
              "</div>\n",
              "    <div class=\"colab-df-buttons\">\n",
              "\n",
              "  <div class=\"colab-df-container\">\n",
              "    <button class=\"colab-df-convert\" onclick=\"convertToInteractive('df-aa11ffa2-9ae7-4d03-8ecf-999091ab343a')\"\n",
              "            title=\"Convert this dataframe to an interactive table.\"\n",
              "            style=\"display:none;\">\n",
              "\n",
              "  <svg xmlns=\"http://www.w3.org/2000/svg\" height=\"24px\" viewBox=\"0 -960 960 960\">\n",
              "    <path d=\"M120-120v-720h720v720H120Zm60-500h600v-160H180v160Zm220 220h160v-160H400v160Zm0 220h160v-160H400v160ZM180-400h160v-160H180v160Zm440 0h160v-160H620v160ZM180-180h160v-160H180v160Zm440 0h160v-160H620v160Z\"/>\n",
              "  </svg>\n",
              "    </button>\n",
              "\n",
              "  <style>\n",
              "    .colab-df-container {\n",
              "      display:flex;\n",
              "      gap: 12px;\n",
              "    }\n",
              "\n",
              "    .colab-df-convert {\n",
              "      background-color: #E8F0FE;\n",
              "      border: none;\n",
              "      border-radius: 50%;\n",
              "      cursor: pointer;\n",
              "      display: none;\n",
              "      fill: #1967D2;\n",
              "      height: 32px;\n",
              "      padding: 0 0 0 0;\n",
              "      width: 32px;\n",
              "    }\n",
              "\n",
              "    .colab-df-convert:hover {\n",
              "      background-color: #E2EBFA;\n",
              "      box-shadow: 0px 1px 2px rgba(60, 64, 67, 0.3), 0px 1px 3px 1px rgba(60, 64, 67, 0.15);\n",
              "      fill: #174EA6;\n",
              "    }\n",
              "\n",
              "    .colab-df-buttons div {\n",
              "      margin-bottom: 4px;\n",
              "    }\n",
              "\n",
              "    [theme=dark] .colab-df-convert {\n",
              "      background-color: #3B4455;\n",
              "      fill: #D2E3FC;\n",
              "    }\n",
              "\n",
              "    [theme=dark] .colab-df-convert:hover {\n",
              "      background-color: #434B5C;\n",
              "      box-shadow: 0px 1px 3px 1px rgba(0, 0, 0, 0.15);\n",
              "      filter: drop-shadow(0px 1px 2px rgba(0, 0, 0, 0.3));\n",
              "      fill: #FFFFFF;\n",
              "    }\n",
              "  </style>\n",
              "\n",
              "    <script>\n",
              "      const buttonEl =\n",
              "        document.querySelector('#df-aa11ffa2-9ae7-4d03-8ecf-999091ab343a button.colab-df-convert');\n",
              "      buttonEl.style.display =\n",
              "        google.colab.kernel.accessAllowed ? 'block' : 'none';\n",
              "\n",
              "      async function convertToInteractive(key) {\n",
              "        const element = document.querySelector('#df-aa11ffa2-9ae7-4d03-8ecf-999091ab343a');\n",
              "        const dataTable =\n",
              "          await google.colab.kernel.invokeFunction('convertToInteractive',\n",
              "                                                    [key], {});\n",
              "        if (!dataTable) return;\n",
              "\n",
              "        const docLinkHtml = 'Like what you see? Visit the ' +\n",
              "          '<a target=\"_blank\" href=https://colab.research.google.com/notebooks/data_table.ipynb>data table notebook</a>'\n",
              "          + ' to learn more about interactive tables.';\n",
              "        element.innerHTML = '';\n",
              "        dataTable['output_type'] = 'display_data';\n",
              "        await google.colab.output.renderOutput(dataTable, element);\n",
              "        const docLink = document.createElement('div');\n",
              "        docLink.innerHTML = docLinkHtml;\n",
              "        element.appendChild(docLink);\n",
              "      }\n",
              "    </script>\n",
              "  </div>\n",
              "\n",
              "\n",
              "<div id=\"df-9ca410ae-a34a-47b3-adcd-9c639188c619\">\n",
              "  <button class=\"colab-df-quickchart\" onclick=\"quickchart('df-9ca410ae-a34a-47b3-adcd-9c639188c619')\"\n",
              "            title=\"Suggest charts\"\n",
              "            style=\"display:none;\">\n",
              "\n",
              "<svg xmlns=\"http://www.w3.org/2000/svg\" height=\"24px\"viewBox=\"0 0 24 24\"\n",
              "     width=\"24px\">\n",
              "    <g>\n",
              "        <path d=\"M19 3H5c-1.1 0-2 .9-2 2v14c0 1.1.9 2 2 2h14c1.1 0 2-.9 2-2V5c0-1.1-.9-2-2-2zM9 17H7v-7h2v7zm4 0h-2V7h2v10zm4 0h-2v-4h2v4z\"/>\n",
              "    </g>\n",
              "</svg>\n",
              "  </button>\n",
              "\n",
              "<style>\n",
              "  .colab-df-quickchart {\n",
              "      --bg-color: #E8F0FE;\n",
              "      --fill-color: #1967D2;\n",
              "      --hover-bg-color: #E2EBFA;\n",
              "      --hover-fill-color: #174EA6;\n",
              "      --disabled-fill-color: #AAA;\n",
              "      --disabled-bg-color: #DDD;\n",
              "  }\n",
              "\n",
              "  [theme=dark] .colab-df-quickchart {\n",
              "      --bg-color: #3B4455;\n",
              "      --fill-color: #D2E3FC;\n",
              "      --hover-bg-color: #434B5C;\n",
              "      --hover-fill-color: #FFFFFF;\n",
              "      --disabled-bg-color: #3B4455;\n",
              "      --disabled-fill-color: #666;\n",
              "  }\n",
              "\n",
              "  .colab-df-quickchart {\n",
              "    background-color: var(--bg-color);\n",
              "    border: none;\n",
              "    border-radius: 50%;\n",
              "    cursor: pointer;\n",
              "    display: none;\n",
              "    fill: var(--fill-color);\n",
              "    height: 32px;\n",
              "    padding: 0;\n",
              "    width: 32px;\n",
              "  }\n",
              "\n",
              "  .colab-df-quickchart:hover {\n",
              "    background-color: var(--hover-bg-color);\n",
              "    box-shadow: 0 1px 2px rgba(60, 64, 67, 0.3), 0 1px 3px 1px rgba(60, 64, 67, 0.15);\n",
              "    fill: var(--button-hover-fill-color);\n",
              "  }\n",
              "\n",
              "  .colab-df-quickchart-complete:disabled,\n",
              "  .colab-df-quickchart-complete:disabled:hover {\n",
              "    background-color: var(--disabled-bg-color);\n",
              "    fill: var(--disabled-fill-color);\n",
              "    box-shadow: none;\n",
              "  }\n",
              "\n",
              "  .colab-df-spinner {\n",
              "    border: 2px solid var(--fill-color);\n",
              "    border-color: transparent;\n",
              "    border-bottom-color: var(--fill-color);\n",
              "    animation:\n",
              "      spin 1s steps(1) infinite;\n",
              "  }\n",
              "\n",
              "  @keyframes spin {\n",
              "    0% {\n",
              "      border-color: transparent;\n",
              "      border-bottom-color: var(--fill-color);\n",
              "      border-left-color: var(--fill-color);\n",
              "    }\n",
              "    20% {\n",
              "      border-color: transparent;\n",
              "      border-left-color: var(--fill-color);\n",
              "      border-top-color: var(--fill-color);\n",
              "    }\n",
              "    30% {\n",
              "      border-color: transparent;\n",
              "      border-left-color: var(--fill-color);\n",
              "      border-top-color: var(--fill-color);\n",
              "      border-right-color: var(--fill-color);\n",
              "    }\n",
              "    40% {\n",
              "      border-color: transparent;\n",
              "      border-right-color: var(--fill-color);\n",
              "      border-top-color: var(--fill-color);\n",
              "    }\n",
              "    60% {\n",
              "      border-color: transparent;\n",
              "      border-right-color: var(--fill-color);\n",
              "    }\n",
              "    80% {\n",
              "      border-color: transparent;\n",
              "      border-right-color: var(--fill-color);\n",
              "      border-bottom-color: var(--fill-color);\n",
              "    }\n",
              "    90% {\n",
              "      border-color: transparent;\n",
              "      border-bottom-color: var(--fill-color);\n",
              "    }\n",
              "  }\n",
              "</style>\n",
              "\n",
              "  <script>\n",
              "    async function quickchart(key) {\n",
              "      const quickchartButtonEl =\n",
              "        document.querySelector('#' + key + ' button');\n",
              "      quickchartButtonEl.disabled = true;  // To prevent multiple clicks.\n",
              "      quickchartButtonEl.classList.add('colab-df-spinner');\n",
              "      try {\n",
              "        const charts = await google.colab.kernel.invokeFunction(\n",
              "            'suggestCharts', [key], {});\n",
              "      } catch (error) {\n",
              "        console.error('Error during call to suggestCharts:', error);\n",
              "      }\n",
              "      quickchartButtonEl.classList.remove('colab-df-spinner');\n",
              "      quickchartButtonEl.classList.add('colab-df-quickchart-complete');\n",
              "    }\n",
              "    (() => {\n",
              "      let quickchartButtonEl =\n",
              "        document.querySelector('#df-9ca410ae-a34a-47b3-adcd-9c639188c619 button');\n",
              "      quickchartButtonEl.style.display =\n",
              "        google.colab.kernel.accessAllowed ? 'block' : 'none';\n",
              "    })();\n",
              "  </script>\n",
              "</div>\n",
              "\n",
              "    </div>\n",
              "  </div>\n"
            ],
            "application/vnd.google.colaboratory.intrinsic+json": {
              "type": "dataframe",
              "variable_name": "merged_daily",
              "summary": "{\n  \"name\": \"merged_daily\",\n  \"rows\": 27800,\n  \"fields\": [\n    {\n      \"column\": \"Id\",\n      \"properties\": {\n        \"dtype\": \"number\",\n        \"std\": 2428139010,\n        \"min\": 1503960366,\n        \"max\": 8877689391,\n        \"num_unique_values\": 33,\n        \"samples\": [\n          8792009665,\n          4388161847,\n          7086361926\n        ],\n        \"semantic_type\": \"\",\n        \"description\": \"\"\n      }\n    },\n    {\n      \"column\": \"ActivityDay\",\n      \"properties\": {\n        \"dtype\": \"date\",\n        \"min\": \"2016-04-12 00:00:00\",\n        \"max\": \"2016-05-12 00:00:00\",\n        \"num_unique_values\": 31,\n        \"samples\": [\n          \"2016-05-09 00:00:00\",\n          \"2016-04-27 00:00:00\",\n          \"2016-05-05 00:00:00\"\n        ],\n        \"semantic_type\": \"\",\n        \"description\": \"\"\n      }\n    },\n    {\n      \"column\": \"SedentaryMinutes\",\n      \"properties\": {\n        \"dtype\": \"number\",\n        \"std\": 300,\n        \"min\": 0,\n        \"max\": 1440,\n        \"num_unique_values\": 549,\n        \"samples\": [\n          720,\n          1115,\n          1187\n        ],\n        \"semantic_type\": \"\",\n        \"description\": \"\"\n      }\n    },\n    {\n      \"column\": \"LightlyActiveMinutes\",\n      \"properties\": {\n        \"dtype\": \"number\",\n        \"std\": 108,\n        \"min\": 0,\n        \"max\": 518,\n        \"num_unique_values\": 335,\n        \"samples\": [\n          214,\n          331,\n          295\n        ],\n        \"semantic_type\": \"\",\n        \"description\": \"\"\n      }\n    },\n    {\n      \"column\": \"FairlyActiveMinutes\",\n      \"properties\": {\n        \"dtype\": \"number\",\n        \"std\": 20,\n        \"min\": 0,\n        \"max\": 143,\n        \"num_unique_values\": 81,\n        \"samples\": [\n          42,\n          13,\n          0\n        ],\n        \"semantic_type\": \"\",\n        \"description\": \"\"\n      }\n    },\n    {\n      \"column\": \"VeryActiveMinutes\",\n      \"properties\": {\n        \"dtype\": \"number\",\n        \"std\": 33,\n        \"min\": 0,\n        \"max\": 210,\n        \"num_unique_values\": 122,\n        \"samples\": [\n          52,\n          104,\n          13\n        ],\n        \"semantic_type\": \"\",\n        \"description\": \"\"\n      }\n    },\n    {\n      \"column\": \"SedentaryActiveDistance\",\n      \"properties\": {\n        \"dtype\": \"number\",\n        \"std\": 0.0073970915862318866,\n        \"min\": 0.0,\n        \"max\": 0.109999999403954,\n        \"num_unique_values\": 9,\n        \"samples\": [\n          0.109999999403954,\n          0.0099999997764825,\n          0.0700000002980232\n        ],\n        \"semantic_type\": \"\",\n        \"description\": \"\"\n      }\n    },\n    {\n      \"column\": \"LightActiveDistance\",\n      \"properties\": {\n        \"dtype\": \"number\",\n        \"std\": 2.0381293155192424,\n        \"min\": 0.0,\n        \"max\": 10.710000038147,\n        \"num_unique_values\": 491,\n        \"samples\": [\n          1.75,\n          0.949999988079071,\n          5.48000001907349\n        ],\n        \"semantic_type\": \"\",\n        \"description\": \"\"\n      }\n    },\n    {\n      \"column\": \"ModeratelyActiveDistance\",\n      \"properties\": {\n        \"dtype\": \"number\",\n        \"std\": 0.883346508005253,\n        \"min\": 0.0,\n        \"max\": 6.48000001907349,\n        \"num_unique_values\": 211,\n        \"samples\": [\n          1.87000000476837,\n          1.16999995708466,\n          0.889999985694885\n        ],\n        \"semantic_type\": \"\",\n        \"description\": \"\"\n      }\n    },\n    {\n      \"column\": \"VeryActiveDistance\",\n      \"properties\": {\n        \"dtype\": \"number\",\n        \"std\": 2.694828803172268,\n        \"min\": 0.0,\n        \"max\": 21.9200000762939,\n        \"num_unique_values\": 333,\n        \"samples\": [\n          3.34999990463257,\n          0.28999999165535,\n          0.479999989271164\n        ],\n        \"semantic_type\": \"\",\n        \"description\": \"\"\n      }\n    },\n    {\n      \"column\": \"Calories\",\n      \"properties\": {\n        \"dtype\": \"number\",\n        \"std\": 722,\n        \"min\": 0,\n        \"max\": 4900,\n        \"num_unique_values\": 734,\n        \"samples\": [\n          2937,\n          1344,\n          1545\n        ],\n        \"semantic_type\": \"\",\n        \"description\": \"\"\n      }\n    },\n    {\n      \"column\": \"StepTotal\",\n      \"properties\": {\n        \"dtype\": \"number\",\n        \"std\": 5109,\n        \"min\": 0,\n        \"max\": 36019,\n        \"num_unique_values\": 842,\n        \"samples\": [\n          3727,\n          7379,\n          10762\n        ],\n        \"semantic_type\": \"\",\n        \"description\": \"\"\n      }\n    },\n    {\n      \"column\": \"TotalDistance\",\n      \"properties\": {\n        \"dtype\": \"number\",\n        \"std\": 3.9527449182671655,\n        \"min\": 0.0,\n        \"max\": 28.0300006866455,\n        \"num_unique_values\": 615,\n        \"samples\": [\n          7.80000019073486,\n          3.5699999332428,\n          8.25\n        ],\n        \"semantic_type\": \"\",\n        \"description\": \"\"\n      }\n    },\n    {\n      \"column\": \"TrackerDistance\",\n      \"properties\": {\n        \"dtype\": \"number\",\n        \"std\": 3.9374258457962035,\n        \"min\": 0.0,\n        \"max\": 28.0300006866455,\n        \"num_unique_values\": 613,\n        \"samples\": [\n          6.05000019073486,\n          2.6800000667572,\n          7.40000009536743\n        ],\n        \"semantic_type\": \"\",\n        \"description\": \"\"\n      }\n    },\n    {\n      \"column\": \"LoggedActivitiesDistance\",\n      \"properties\": {\n        \"dtype\": \"number\",\n        \"std\": 0.5973320417225803,\n        \"min\": 0.0,\n        \"max\": 4.94214200973511,\n        \"num_unique_values\": 19,\n        \"samples\": [\n          0.0,\n          4.8697829246521,\n          4.86179208755493\n        ],\n        \"semantic_type\": \"\",\n        \"description\": \"\"\n      }\n    }\n  ]\n}"
            }
          },
          "metadata": {},
          "execution_count": 96
        }
      ]
    },
    {
      "cell_type": "markdown",
      "source": [
        "* Removing duplicate rows from the merged daily dataset"
      ],
      "metadata": {
        "id": "5Vy2QXjiwShM"
      }
    },
    {
      "cell_type": "code",
      "source": [
        "merged_daily = merged_daily.drop_duplicates()"
      ],
      "metadata": {
        "id": "QlinBBz8wWmc"
      },
      "execution_count": 97,
      "outputs": []
    },
    {
      "cell_type": "markdown",
      "source": [
        "* Getting Info About The Daily Dataset"
      ],
      "metadata": {
        "id": "pZlRYXrbwggY"
      }
    },
    {
      "cell_type": "code",
      "source": [
        "merged_daily.info()"
      ],
      "metadata": {
        "colab": {
          "base_uri": "https://localhost:8080/"
        },
        "id": "owmzUAnpwnyB",
        "outputId": "e0e4c382-be3e-4227-f4dc-aa72a0587ad3"
      },
      "execution_count": 98,
      "outputs": [
        {
          "output_type": "stream",
          "name": "stdout",
          "text": [
            "<class 'pandas.core.frame.DataFrame'>\n",
            "Index: 25382 entries, 0 to 27799\n",
            "Data columns (total 15 columns):\n",
            " #   Column                    Non-Null Count  Dtype         \n",
            "---  ------                    --------------  -----         \n",
            " 0   Id                        25382 non-null  int64         \n",
            " 1   ActivityDay               25382 non-null  datetime64[ns]\n",
            " 2   SedentaryMinutes          25382 non-null  int64         \n",
            " 3   LightlyActiveMinutes      25382 non-null  int64         \n",
            " 4   FairlyActiveMinutes       25382 non-null  int64         \n",
            " 5   VeryActiveMinutes         25382 non-null  int64         \n",
            " 6   SedentaryActiveDistance   25382 non-null  float64       \n",
            " 7   LightActiveDistance       25382 non-null  float64       \n",
            " 8   ModeratelyActiveDistance  25382 non-null  float64       \n",
            " 9   VeryActiveDistance        25382 non-null  float64       \n",
            " 10  Calories                  25382 non-null  int64         \n",
            " 11  StepTotal                 25382 non-null  int64         \n",
            " 12  TotalDistance             25382 non-null  float64       \n",
            " 13  TrackerDistance           25382 non-null  float64       \n",
            " 14  LoggedActivitiesDistance  25382 non-null  float64       \n",
            "dtypes: datetime64[ns](1), float64(7), int64(7)\n",
            "memory usage: 3.1 MB\n"
          ]
        }
      ]
    },
    {
      "cell_type": "markdown",
      "source": [
        "* Getting the 5 Datasets from Hourly Datasets"
      ],
      "metadata": {
        "id": "l7KRNOVk0-wh"
      }
    },
    {
      "cell_type": "code",
      "source": [
        "print(hi.head())\n",
        "print(hc.head())\n",
        "print(hs.head())"
      ],
      "metadata": {
        "colab": {
          "base_uri": "https://localhost:8080/"
        },
        "id": "VEkaHQRr6Q3o",
        "outputId": "35076811-3e26-4371-838b-969a053a50f6"
      },
      "execution_count": 99,
      "outputs": [
        {
          "output_type": "stream",
          "name": "stdout",
          "text": [
            "           Id           ActivityHour  TotalIntensity  AverageIntensity\n",
            "0  1503960366  4/12/2016 12:00:00 AM              20          0.333333\n",
            "1  1503960366   4/12/2016 1:00:00 AM               8          0.133333\n",
            "2  1503960366   4/12/2016 2:00:00 AM               7          0.116667\n",
            "3  1503960366   4/12/2016 3:00:00 AM               0          0.000000\n",
            "4  1503960366   4/12/2016 4:00:00 AM               0          0.000000\n",
            "           Id           ActivityHour  Calories\n",
            "0  1503960366  4/12/2016 12:00:00 AM        81\n",
            "1  1503960366   4/12/2016 1:00:00 AM        61\n",
            "2  1503960366   4/12/2016 2:00:00 AM        59\n",
            "3  1503960366   4/12/2016 3:00:00 AM        47\n",
            "4  1503960366   4/12/2016 4:00:00 AM        48\n",
            "           Id           ActivityHour  StepTotal\n",
            "0  1503960366  4/12/2016 12:00:00 AM        373\n",
            "1  1503960366   4/12/2016 1:00:00 AM        160\n",
            "2  1503960366   4/12/2016 2:00:00 AM        151\n",
            "3  1503960366   4/12/2016 3:00:00 AM          0\n",
            "4  1503960366   4/12/2016 4:00:00 AM          0\n"
          ]
        }
      ]
    },
    {
      "cell_type": "markdown",
      "source": [
        "* Converting neccessary columns to 'datetime' type"
      ],
      "metadata": {
        "id": "gG6W6xBj6h5n"
      }
    },
    {
      "cell_type": "code",
      "source": [
        "hi['ActivityHour'] = pd.to_datetime(hi['ActivityHour'])\n",
        "hc['ActivityHour'] = pd.to_datetime(hc['ActivityHour'])\n",
        "hs['ActivityHour'] = pd.to_datetime(hs['ActivityHour'])"
      ],
      "metadata": {
        "id": "Bozam-Iv6kQA",
        "colab": {
          "base_uri": "https://localhost:8080/"
        },
        "outputId": "21b875af-dd8d-467f-8a21-b2824f4b01c6"
      },
      "execution_count": 100,
      "outputs": [
        {
          "output_type": "stream",
          "name": "stderr",
          "text": [
            "<ipython-input-100-09d65693fd8d>:1: UserWarning: Could not infer format, so each element will be parsed individually, falling back to `dateutil`. To ensure parsing is consistent and as-expected, please specify a format.\n",
            "  hi['ActivityHour'] = pd.to_datetime(hi['ActivityHour'])\n",
            "<ipython-input-100-09d65693fd8d>:2: UserWarning: Could not infer format, so each element will be parsed individually, falling back to `dateutil`. To ensure parsing is consistent and as-expected, please specify a format.\n",
            "  hc['ActivityHour'] = pd.to_datetime(hc['ActivityHour'])\n",
            "<ipython-input-100-09d65693fd8d>:3: UserWarning: Could not infer format, so each element will be parsed individually, falling back to `dateutil`. To ensure parsing is consistent and as-expected, please specify a format.\n",
            "  hs['ActivityHour'] = pd.to_datetime(hs['ActivityHour'])\n"
          ]
        }
      ]
    },
    {
      "cell_type": "markdown",
      "source": [
        "* Merging the three Hourly-datasets based on 'Id' and 'ActivityHour'"
      ],
      "metadata": {
        "id": "92AkfQte7R0t"
      }
    },
    {
      "cell_type": "code",
      "source": [
        "merged_hourly = pd.merge(hi,hc, on =['Id','ActivityHour'],how ='left')\n",
        "merged_hourly = pd.merge(merged_hourly,hs, on = ['Id','ActivityHour'],how ='left')"
      ],
      "metadata": {
        "id": "d_nDTgkB7SuC"
      },
      "execution_count": 101,
      "outputs": []
    },
    {
      "cell_type": "markdown",
      "source": [
        "* Getting The 5 Datasets of Merged Hourly Datasets"
      ],
      "metadata": {
        "id": "wnrccDhW72jX"
      }
    },
    {
      "cell_type": "code",
      "source": [
        "merged_hourly.head()"
      ],
      "metadata": {
        "colab": {
          "base_uri": "https://localhost:8080/",
          "height": 206
        },
        "id": "9IOvyzu778Lq",
        "outputId": "0bdb50a6-7a13-4767-c2a3-3b1c2b3eab21"
      },
      "execution_count": 102,
      "outputs": [
        {
          "output_type": "execute_result",
          "data": {
            "text/plain": [
              "           Id        ActivityHour  TotalIntensity  AverageIntensity  Calories  \\\n",
              "0  1503960366 2016-04-12 00:00:00              20          0.333333        81   \n",
              "1  1503960366 2016-04-12 01:00:00               8          0.133333        61   \n",
              "2  1503960366 2016-04-12 02:00:00               7          0.116667        59   \n",
              "3  1503960366 2016-04-12 03:00:00               0          0.000000        47   \n",
              "4  1503960366 2016-04-12 04:00:00               0          0.000000        48   \n",
              "\n",
              "   StepTotal  \n",
              "0        373  \n",
              "1        160  \n",
              "2        151  \n",
              "3          0  \n",
              "4          0  "
            ],
            "text/html": [
              "\n",
              "  <div id=\"df-7274ef07-d85d-459a-b00d-09fb5e497151\" class=\"colab-df-container\">\n",
              "    <div>\n",
              "<style scoped>\n",
              "    .dataframe tbody tr th:only-of-type {\n",
              "        vertical-align: middle;\n",
              "    }\n",
              "\n",
              "    .dataframe tbody tr th {\n",
              "        vertical-align: top;\n",
              "    }\n",
              "\n",
              "    .dataframe thead th {\n",
              "        text-align: right;\n",
              "    }\n",
              "</style>\n",
              "<table border=\"1\" class=\"dataframe\">\n",
              "  <thead>\n",
              "    <tr style=\"text-align: right;\">\n",
              "      <th></th>\n",
              "      <th>Id</th>\n",
              "      <th>ActivityHour</th>\n",
              "      <th>TotalIntensity</th>\n",
              "      <th>AverageIntensity</th>\n",
              "      <th>Calories</th>\n",
              "      <th>StepTotal</th>\n",
              "    </tr>\n",
              "  </thead>\n",
              "  <tbody>\n",
              "    <tr>\n",
              "      <th>0</th>\n",
              "      <td>1503960366</td>\n",
              "      <td>2016-04-12 00:00:00</td>\n",
              "      <td>20</td>\n",
              "      <td>0.333333</td>\n",
              "      <td>81</td>\n",
              "      <td>373</td>\n",
              "    </tr>\n",
              "    <tr>\n",
              "      <th>1</th>\n",
              "      <td>1503960366</td>\n",
              "      <td>2016-04-12 01:00:00</td>\n",
              "      <td>8</td>\n",
              "      <td>0.133333</td>\n",
              "      <td>61</td>\n",
              "      <td>160</td>\n",
              "    </tr>\n",
              "    <tr>\n",
              "      <th>2</th>\n",
              "      <td>1503960366</td>\n",
              "      <td>2016-04-12 02:00:00</td>\n",
              "      <td>7</td>\n",
              "      <td>0.116667</td>\n",
              "      <td>59</td>\n",
              "      <td>151</td>\n",
              "    </tr>\n",
              "    <tr>\n",
              "      <th>3</th>\n",
              "      <td>1503960366</td>\n",
              "      <td>2016-04-12 03:00:00</td>\n",
              "      <td>0</td>\n",
              "      <td>0.000000</td>\n",
              "      <td>47</td>\n",
              "      <td>0</td>\n",
              "    </tr>\n",
              "    <tr>\n",
              "      <th>4</th>\n",
              "      <td>1503960366</td>\n",
              "      <td>2016-04-12 04:00:00</td>\n",
              "      <td>0</td>\n",
              "      <td>0.000000</td>\n",
              "      <td>48</td>\n",
              "      <td>0</td>\n",
              "    </tr>\n",
              "  </tbody>\n",
              "</table>\n",
              "</div>\n",
              "    <div class=\"colab-df-buttons\">\n",
              "\n",
              "  <div class=\"colab-df-container\">\n",
              "    <button class=\"colab-df-convert\" onclick=\"convertToInteractive('df-7274ef07-d85d-459a-b00d-09fb5e497151')\"\n",
              "            title=\"Convert this dataframe to an interactive table.\"\n",
              "            style=\"display:none;\">\n",
              "\n",
              "  <svg xmlns=\"http://www.w3.org/2000/svg\" height=\"24px\" viewBox=\"0 -960 960 960\">\n",
              "    <path d=\"M120-120v-720h720v720H120Zm60-500h600v-160H180v160Zm220 220h160v-160H400v160Zm0 220h160v-160H400v160ZM180-400h160v-160H180v160Zm440 0h160v-160H620v160ZM180-180h160v-160H180v160Zm440 0h160v-160H620v160Z\"/>\n",
              "  </svg>\n",
              "    </button>\n",
              "\n",
              "  <style>\n",
              "    .colab-df-container {\n",
              "      display:flex;\n",
              "      gap: 12px;\n",
              "    }\n",
              "\n",
              "    .colab-df-convert {\n",
              "      background-color: #E8F0FE;\n",
              "      border: none;\n",
              "      border-radius: 50%;\n",
              "      cursor: pointer;\n",
              "      display: none;\n",
              "      fill: #1967D2;\n",
              "      height: 32px;\n",
              "      padding: 0 0 0 0;\n",
              "      width: 32px;\n",
              "    }\n",
              "\n",
              "    .colab-df-convert:hover {\n",
              "      background-color: #E2EBFA;\n",
              "      box-shadow: 0px 1px 2px rgba(60, 64, 67, 0.3), 0px 1px 3px 1px rgba(60, 64, 67, 0.15);\n",
              "      fill: #174EA6;\n",
              "    }\n",
              "\n",
              "    .colab-df-buttons div {\n",
              "      margin-bottom: 4px;\n",
              "    }\n",
              "\n",
              "    [theme=dark] .colab-df-convert {\n",
              "      background-color: #3B4455;\n",
              "      fill: #D2E3FC;\n",
              "    }\n",
              "\n",
              "    [theme=dark] .colab-df-convert:hover {\n",
              "      background-color: #434B5C;\n",
              "      box-shadow: 0px 1px 3px 1px rgba(0, 0, 0, 0.15);\n",
              "      filter: drop-shadow(0px 1px 2px rgba(0, 0, 0, 0.3));\n",
              "      fill: #FFFFFF;\n",
              "    }\n",
              "  </style>\n",
              "\n",
              "    <script>\n",
              "      const buttonEl =\n",
              "        document.querySelector('#df-7274ef07-d85d-459a-b00d-09fb5e497151 button.colab-df-convert');\n",
              "      buttonEl.style.display =\n",
              "        google.colab.kernel.accessAllowed ? 'block' : 'none';\n",
              "\n",
              "      async function convertToInteractive(key) {\n",
              "        const element = document.querySelector('#df-7274ef07-d85d-459a-b00d-09fb5e497151');\n",
              "        const dataTable =\n",
              "          await google.colab.kernel.invokeFunction('convertToInteractive',\n",
              "                                                    [key], {});\n",
              "        if (!dataTable) return;\n",
              "\n",
              "        const docLinkHtml = 'Like what you see? Visit the ' +\n",
              "          '<a target=\"_blank\" href=https://colab.research.google.com/notebooks/data_table.ipynb>data table notebook</a>'\n",
              "          + ' to learn more about interactive tables.';\n",
              "        element.innerHTML = '';\n",
              "        dataTable['output_type'] = 'display_data';\n",
              "        await google.colab.output.renderOutput(dataTable, element);\n",
              "        const docLink = document.createElement('div');\n",
              "        docLink.innerHTML = docLinkHtml;\n",
              "        element.appendChild(docLink);\n",
              "      }\n",
              "    </script>\n",
              "  </div>\n",
              "\n",
              "\n",
              "<div id=\"df-37eb219e-6459-4f7a-8b7c-7399e51b9a44\">\n",
              "  <button class=\"colab-df-quickchart\" onclick=\"quickchart('df-37eb219e-6459-4f7a-8b7c-7399e51b9a44')\"\n",
              "            title=\"Suggest charts\"\n",
              "            style=\"display:none;\">\n",
              "\n",
              "<svg xmlns=\"http://www.w3.org/2000/svg\" height=\"24px\"viewBox=\"0 0 24 24\"\n",
              "     width=\"24px\">\n",
              "    <g>\n",
              "        <path d=\"M19 3H5c-1.1 0-2 .9-2 2v14c0 1.1.9 2 2 2h14c1.1 0 2-.9 2-2V5c0-1.1-.9-2-2-2zM9 17H7v-7h2v7zm4 0h-2V7h2v10zm4 0h-2v-4h2v4z\"/>\n",
              "    </g>\n",
              "</svg>\n",
              "  </button>\n",
              "\n",
              "<style>\n",
              "  .colab-df-quickchart {\n",
              "      --bg-color: #E8F0FE;\n",
              "      --fill-color: #1967D2;\n",
              "      --hover-bg-color: #E2EBFA;\n",
              "      --hover-fill-color: #174EA6;\n",
              "      --disabled-fill-color: #AAA;\n",
              "      --disabled-bg-color: #DDD;\n",
              "  }\n",
              "\n",
              "  [theme=dark] .colab-df-quickchart {\n",
              "      --bg-color: #3B4455;\n",
              "      --fill-color: #D2E3FC;\n",
              "      --hover-bg-color: #434B5C;\n",
              "      --hover-fill-color: #FFFFFF;\n",
              "      --disabled-bg-color: #3B4455;\n",
              "      --disabled-fill-color: #666;\n",
              "  }\n",
              "\n",
              "  .colab-df-quickchart {\n",
              "    background-color: var(--bg-color);\n",
              "    border: none;\n",
              "    border-radius: 50%;\n",
              "    cursor: pointer;\n",
              "    display: none;\n",
              "    fill: var(--fill-color);\n",
              "    height: 32px;\n",
              "    padding: 0;\n",
              "    width: 32px;\n",
              "  }\n",
              "\n",
              "  .colab-df-quickchart:hover {\n",
              "    background-color: var(--hover-bg-color);\n",
              "    box-shadow: 0 1px 2px rgba(60, 64, 67, 0.3), 0 1px 3px 1px rgba(60, 64, 67, 0.15);\n",
              "    fill: var(--button-hover-fill-color);\n",
              "  }\n",
              "\n",
              "  .colab-df-quickchart-complete:disabled,\n",
              "  .colab-df-quickchart-complete:disabled:hover {\n",
              "    background-color: var(--disabled-bg-color);\n",
              "    fill: var(--disabled-fill-color);\n",
              "    box-shadow: none;\n",
              "  }\n",
              "\n",
              "  .colab-df-spinner {\n",
              "    border: 2px solid var(--fill-color);\n",
              "    border-color: transparent;\n",
              "    border-bottom-color: var(--fill-color);\n",
              "    animation:\n",
              "      spin 1s steps(1) infinite;\n",
              "  }\n",
              "\n",
              "  @keyframes spin {\n",
              "    0% {\n",
              "      border-color: transparent;\n",
              "      border-bottom-color: var(--fill-color);\n",
              "      border-left-color: var(--fill-color);\n",
              "    }\n",
              "    20% {\n",
              "      border-color: transparent;\n",
              "      border-left-color: var(--fill-color);\n",
              "      border-top-color: var(--fill-color);\n",
              "    }\n",
              "    30% {\n",
              "      border-color: transparent;\n",
              "      border-left-color: var(--fill-color);\n",
              "      border-top-color: var(--fill-color);\n",
              "      border-right-color: var(--fill-color);\n",
              "    }\n",
              "    40% {\n",
              "      border-color: transparent;\n",
              "      border-right-color: var(--fill-color);\n",
              "      border-top-color: var(--fill-color);\n",
              "    }\n",
              "    60% {\n",
              "      border-color: transparent;\n",
              "      border-right-color: var(--fill-color);\n",
              "    }\n",
              "    80% {\n",
              "      border-color: transparent;\n",
              "      border-right-color: var(--fill-color);\n",
              "      border-bottom-color: var(--fill-color);\n",
              "    }\n",
              "    90% {\n",
              "      border-color: transparent;\n",
              "      border-bottom-color: var(--fill-color);\n",
              "    }\n",
              "  }\n",
              "</style>\n",
              "\n",
              "  <script>\n",
              "    async function quickchart(key) {\n",
              "      const quickchartButtonEl =\n",
              "        document.querySelector('#' + key + ' button');\n",
              "      quickchartButtonEl.disabled = true;  // To prevent multiple clicks.\n",
              "      quickchartButtonEl.classList.add('colab-df-spinner');\n",
              "      try {\n",
              "        const charts = await google.colab.kernel.invokeFunction(\n",
              "            'suggestCharts', [key], {});\n",
              "      } catch (error) {\n",
              "        console.error('Error during call to suggestCharts:', error);\n",
              "      }\n",
              "      quickchartButtonEl.classList.remove('colab-df-spinner');\n",
              "      quickchartButtonEl.classList.add('colab-df-quickchart-complete');\n",
              "    }\n",
              "    (() => {\n",
              "      let quickchartButtonEl =\n",
              "        document.querySelector('#df-37eb219e-6459-4f7a-8b7c-7399e51b9a44 button');\n",
              "      quickchartButtonEl.style.display =\n",
              "        google.colab.kernel.accessAllowed ? 'block' : 'none';\n",
              "    })();\n",
              "  </script>\n",
              "</div>\n",
              "\n",
              "    </div>\n",
              "  </div>\n"
            ],
            "application/vnd.google.colaboratory.intrinsic+json": {
              "type": "dataframe",
              "variable_name": "merged_hourly",
              "summary": "{\n  \"name\": \"merged_hourly\",\n  \"rows\": 22099,\n  \"fields\": [\n    {\n      \"column\": \"Id\",\n      \"properties\": {\n        \"dtype\": \"number\",\n        \"std\": 2422500401,\n        \"min\": 1503960366,\n        \"max\": 8877689391,\n        \"num_unique_values\": 33,\n        \"samples\": [\n          8792009665,\n          4388161847,\n          7086361926\n        ],\n        \"semantic_type\": \"\",\n        \"description\": \"\"\n      }\n    },\n    {\n      \"column\": \"ActivityHour\",\n      \"properties\": {\n        \"dtype\": \"date\",\n        \"min\": \"2016-04-12 00:00:00\",\n        \"max\": \"2016-05-12 15:00:00\",\n        \"num_unique_values\": 736,\n        \"samples\": [\n          \"2016-05-09 21:00:00\",\n          \"2016-04-13 09:00:00\",\n          \"2016-05-04 21:00:00\"\n        ],\n        \"semantic_type\": \"\",\n        \"description\": \"\"\n      }\n    },\n    {\n      \"column\": \"TotalIntensity\",\n      \"properties\": {\n        \"dtype\": \"number\",\n        \"std\": 21,\n        \"min\": 0,\n        \"max\": 180,\n        \"num_unique_values\": 175,\n        \"samples\": [\n          156,\n          125,\n          94\n        ],\n        \"semantic_type\": \"\",\n        \"description\": \"\"\n      }\n    },\n    {\n      \"column\": \"AverageIntensity\",\n      \"properties\": {\n        \"dtype\": \"number\",\n        \"std\": 0.3522185037617422,\n        \"min\": 0.0,\n        \"max\": 3.0,\n        \"num_unique_values\": 175,\n        \"samples\": [\n          2.6,\n          2.083333,\n          1.566667\n        ],\n        \"semantic_type\": \"\",\n        \"description\": \"\"\n      }\n    },\n    {\n      \"column\": \"Calories\",\n      \"properties\": {\n        \"dtype\": \"number\",\n        \"std\": 60,\n        \"min\": 42,\n        \"max\": 948,\n        \"num_unique_values\": 442,\n        \"samples\": [\n          304,\n          184,\n          143\n        ],\n        \"semantic_type\": \"\",\n        \"description\": \"\"\n      }\n    },\n    {\n      \"column\": \"StepTotal\",\n      \"properties\": {\n        \"dtype\": \"number\",\n        \"std\": 690,\n        \"min\": 0,\n        \"max\": 10554,\n        \"num_unique_values\": 2222,\n        \"samples\": [\n          13,\n          1747,\n          5921\n        ],\n        \"semantic_type\": \"\",\n        \"description\": \"\"\n      }\n    }\n  ]\n}"
            }
          },
          "metadata": {},
          "execution_count": 102
        }
      ]
    },
    {
      "cell_type": "markdown",
      "source": [
        "* Dropping The duplicate Values If any"
      ],
      "metadata": {
        "id": "XGi4pvlt82jy"
      }
    },
    {
      "cell_type": "code",
      "source": [
        "merged_hourly.drop_duplicates()"
      ],
      "metadata": {
        "id": "GY9O9jO087Gr",
        "colab": {
          "base_uri": "https://localhost:8080/",
          "height": 423
        },
        "outputId": "8b839538-2a28-4cc2-fa80-2284b1044dd6"
      },
      "execution_count": 103,
      "outputs": [
        {
          "output_type": "execute_result",
          "data": {
            "text/plain": [
              "               Id        ActivityHour  TotalIntensity  AverageIntensity  \\\n",
              "0      1503960366 2016-04-12 00:00:00              20          0.333333   \n",
              "1      1503960366 2016-04-12 01:00:00               8          0.133333   \n",
              "2      1503960366 2016-04-12 02:00:00               7          0.116667   \n",
              "3      1503960366 2016-04-12 03:00:00               0          0.000000   \n",
              "4      1503960366 2016-04-12 04:00:00               0          0.000000   \n",
              "...           ...                 ...             ...               ...   \n",
              "22094  8877689391 2016-05-12 10:00:00              12          0.200000   \n",
              "22095  8877689391 2016-05-12 11:00:00              29          0.483333   \n",
              "22096  8877689391 2016-05-12 12:00:00              93          1.550000   \n",
              "22097  8877689391 2016-05-12 13:00:00               6          0.100000   \n",
              "22098  8877689391 2016-05-12 14:00:00               9          0.150000   \n",
              "\n",
              "       Calories  StepTotal  \n",
              "0            81        373  \n",
              "1            61        160  \n",
              "2            59        151  \n",
              "3            47          0  \n",
              "4            48          0  \n",
              "...         ...        ...  \n",
              "22094       126        514  \n",
              "22095       192       1407  \n",
              "22096       321       3135  \n",
              "22097       101        307  \n",
              "22098       113        457  \n",
              "\n",
              "[22099 rows x 6 columns]"
            ],
            "text/html": [
              "\n",
              "  <div id=\"df-e796ca50-abce-43a4-ba5c-2313214b614e\" class=\"colab-df-container\">\n",
              "    <div>\n",
              "<style scoped>\n",
              "    .dataframe tbody tr th:only-of-type {\n",
              "        vertical-align: middle;\n",
              "    }\n",
              "\n",
              "    .dataframe tbody tr th {\n",
              "        vertical-align: top;\n",
              "    }\n",
              "\n",
              "    .dataframe thead th {\n",
              "        text-align: right;\n",
              "    }\n",
              "</style>\n",
              "<table border=\"1\" class=\"dataframe\">\n",
              "  <thead>\n",
              "    <tr style=\"text-align: right;\">\n",
              "      <th></th>\n",
              "      <th>Id</th>\n",
              "      <th>ActivityHour</th>\n",
              "      <th>TotalIntensity</th>\n",
              "      <th>AverageIntensity</th>\n",
              "      <th>Calories</th>\n",
              "      <th>StepTotal</th>\n",
              "    </tr>\n",
              "  </thead>\n",
              "  <tbody>\n",
              "    <tr>\n",
              "      <th>0</th>\n",
              "      <td>1503960366</td>\n",
              "      <td>2016-04-12 00:00:00</td>\n",
              "      <td>20</td>\n",
              "      <td>0.333333</td>\n",
              "      <td>81</td>\n",
              "      <td>373</td>\n",
              "    </tr>\n",
              "    <tr>\n",
              "      <th>1</th>\n",
              "      <td>1503960366</td>\n",
              "      <td>2016-04-12 01:00:00</td>\n",
              "      <td>8</td>\n",
              "      <td>0.133333</td>\n",
              "      <td>61</td>\n",
              "      <td>160</td>\n",
              "    </tr>\n",
              "    <tr>\n",
              "      <th>2</th>\n",
              "      <td>1503960366</td>\n",
              "      <td>2016-04-12 02:00:00</td>\n",
              "      <td>7</td>\n",
              "      <td>0.116667</td>\n",
              "      <td>59</td>\n",
              "      <td>151</td>\n",
              "    </tr>\n",
              "    <tr>\n",
              "      <th>3</th>\n",
              "      <td>1503960366</td>\n",
              "      <td>2016-04-12 03:00:00</td>\n",
              "      <td>0</td>\n",
              "      <td>0.000000</td>\n",
              "      <td>47</td>\n",
              "      <td>0</td>\n",
              "    </tr>\n",
              "    <tr>\n",
              "      <th>4</th>\n",
              "      <td>1503960366</td>\n",
              "      <td>2016-04-12 04:00:00</td>\n",
              "      <td>0</td>\n",
              "      <td>0.000000</td>\n",
              "      <td>48</td>\n",
              "      <td>0</td>\n",
              "    </tr>\n",
              "    <tr>\n",
              "      <th>...</th>\n",
              "      <td>...</td>\n",
              "      <td>...</td>\n",
              "      <td>...</td>\n",
              "      <td>...</td>\n",
              "      <td>...</td>\n",
              "      <td>...</td>\n",
              "    </tr>\n",
              "    <tr>\n",
              "      <th>22094</th>\n",
              "      <td>8877689391</td>\n",
              "      <td>2016-05-12 10:00:00</td>\n",
              "      <td>12</td>\n",
              "      <td>0.200000</td>\n",
              "      <td>126</td>\n",
              "      <td>514</td>\n",
              "    </tr>\n",
              "    <tr>\n",
              "      <th>22095</th>\n",
              "      <td>8877689391</td>\n",
              "      <td>2016-05-12 11:00:00</td>\n",
              "      <td>29</td>\n",
              "      <td>0.483333</td>\n",
              "      <td>192</td>\n",
              "      <td>1407</td>\n",
              "    </tr>\n",
              "    <tr>\n",
              "      <th>22096</th>\n",
              "      <td>8877689391</td>\n",
              "      <td>2016-05-12 12:00:00</td>\n",
              "      <td>93</td>\n",
              "      <td>1.550000</td>\n",
              "      <td>321</td>\n",
              "      <td>3135</td>\n",
              "    </tr>\n",
              "    <tr>\n",
              "      <th>22097</th>\n",
              "      <td>8877689391</td>\n",
              "      <td>2016-05-12 13:00:00</td>\n",
              "      <td>6</td>\n",
              "      <td>0.100000</td>\n",
              "      <td>101</td>\n",
              "      <td>307</td>\n",
              "    </tr>\n",
              "    <tr>\n",
              "      <th>22098</th>\n",
              "      <td>8877689391</td>\n",
              "      <td>2016-05-12 14:00:00</td>\n",
              "      <td>9</td>\n",
              "      <td>0.150000</td>\n",
              "      <td>113</td>\n",
              "      <td>457</td>\n",
              "    </tr>\n",
              "  </tbody>\n",
              "</table>\n",
              "<p>22099 rows × 6 columns</p>\n",
              "</div>\n",
              "    <div class=\"colab-df-buttons\">\n",
              "\n",
              "  <div class=\"colab-df-container\">\n",
              "    <button class=\"colab-df-convert\" onclick=\"convertToInteractive('df-e796ca50-abce-43a4-ba5c-2313214b614e')\"\n",
              "            title=\"Convert this dataframe to an interactive table.\"\n",
              "            style=\"display:none;\">\n",
              "\n",
              "  <svg xmlns=\"http://www.w3.org/2000/svg\" height=\"24px\" viewBox=\"0 -960 960 960\">\n",
              "    <path d=\"M120-120v-720h720v720H120Zm60-500h600v-160H180v160Zm220 220h160v-160H400v160Zm0 220h160v-160H400v160ZM180-400h160v-160H180v160Zm440 0h160v-160H620v160ZM180-180h160v-160H180v160Zm440 0h160v-160H620v160Z\"/>\n",
              "  </svg>\n",
              "    </button>\n",
              "\n",
              "  <style>\n",
              "    .colab-df-container {\n",
              "      display:flex;\n",
              "      gap: 12px;\n",
              "    }\n",
              "\n",
              "    .colab-df-convert {\n",
              "      background-color: #E8F0FE;\n",
              "      border: none;\n",
              "      border-radius: 50%;\n",
              "      cursor: pointer;\n",
              "      display: none;\n",
              "      fill: #1967D2;\n",
              "      height: 32px;\n",
              "      padding: 0 0 0 0;\n",
              "      width: 32px;\n",
              "    }\n",
              "\n",
              "    .colab-df-convert:hover {\n",
              "      background-color: #E2EBFA;\n",
              "      box-shadow: 0px 1px 2px rgba(60, 64, 67, 0.3), 0px 1px 3px 1px rgba(60, 64, 67, 0.15);\n",
              "      fill: #174EA6;\n",
              "    }\n",
              "\n",
              "    .colab-df-buttons div {\n",
              "      margin-bottom: 4px;\n",
              "    }\n",
              "\n",
              "    [theme=dark] .colab-df-convert {\n",
              "      background-color: #3B4455;\n",
              "      fill: #D2E3FC;\n",
              "    }\n",
              "\n",
              "    [theme=dark] .colab-df-convert:hover {\n",
              "      background-color: #434B5C;\n",
              "      box-shadow: 0px 1px 3px 1px rgba(0, 0, 0, 0.15);\n",
              "      filter: drop-shadow(0px 1px 2px rgba(0, 0, 0, 0.3));\n",
              "      fill: #FFFFFF;\n",
              "    }\n",
              "  </style>\n",
              "\n",
              "    <script>\n",
              "      const buttonEl =\n",
              "        document.querySelector('#df-e796ca50-abce-43a4-ba5c-2313214b614e button.colab-df-convert');\n",
              "      buttonEl.style.display =\n",
              "        google.colab.kernel.accessAllowed ? 'block' : 'none';\n",
              "\n",
              "      async function convertToInteractive(key) {\n",
              "        const element = document.querySelector('#df-e796ca50-abce-43a4-ba5c-2313214b614e');\n",
              "        const dataTable =\n",
              "          await google.colab.kernel.invokeFunction('convertToInteractive',\n",
              "                                                    [key], {});\n",
              "        if (!dataTable) return;\n",
              "\n",
              "        const docLinkHtml = 'Like what you see? Visit the ' +\n",
              "          '<a target=\"_blank\" href=https://colab.research.google.com/notebooks/data_table.ipynb>data table notebook</a>'\n",
              "          + ' to learn more about interactive tables.';\n",
              "        element.innerHTML = '';\n",
              "        dataTable['output_type'] = 'display_data';\n",
              "        await google.colab.output.renderOutput(dataTable, element);\n",
              "        const docLink = document.createElement('div');\n",
              "        docLink.innerHTML = docLinkHtml;\n",
              "        element.appendChild(docLink);\n",
              "      }\n",
              "    </script>\n",
              "  </div>\n",
              "\n",
              "\n",
              "<div id=\"df-d732afd4-4f7c-44c9-90cb-159719d052db\">\n",
              "  <button class=\"colab-df-quickchart\" onclick=\"quickchart('df-d732afd4-4f7c-44c9-90cb-159719d052db')\"\n",
              "            title=\"Suggest charts\"\n",
              "            style=\"display:none;\">\n",
              "\n",
              "<svg xmlns=\"http://www.w3.org/2000/svg\" height=\"24px\"viewBox=\"0 0 24 24\"\n",
              "     width=\"24px\">\n",
              "    <g>\n",
              "        <path d=\"M19 3H5c-1.1 0-2 .9-2 2v14c0 1.1.9 2 2 2h14c1.1 0 2-.9 2-2V5c0-1.1-.9-2-2-2zM9 17H7v-7h2v7zm4 0h-2V7h2v10zm4 0h-2v-4h2v4z\"/>\n",
              "    </g>\n",
              "</svg>\n",
              "  </button>\n",
              "\n",
              "<style>\n",
              "  .colab-df-quickchart {\n",
              "      --bg-color: #E8F0FE;\n",
              "      --fill-color: #1967D2;\n",
              "      --hover-bg-color: #E2EBFA;\n",
              "      --hover-fill-color: #174EA6;\n",
              "      --disabled-fill-color: #AAA;\n",
              "      --disabled-bg-color: #DDD;\n",
              "  }\n",
              "\n",
              "  [theme=dark] .colab-df-quickchart {\n",
              "      --bg-color: #3B4455;\n",
              "      --fill-color: #D2E3FC;\n",
              "      --hover-bg-color: #434B5C;\n",
              "      --hover-fill-color: #FFFFFF;\n",
              "      --disabled-bg-color: #3B4455;\n",
              "      --disabled-fill-color: #666;\n",
              "  }\n",
              "\n",
              "  .colab-df-quickchart {\n",
              "    background-color: var(--bg-color);\n",
              "    border: none;\n",
              "    border-radius: 50%;\n",
              "    cursor: pointer;\n",
              "    display: none;\n",
              "    fill: var(--fill-color);\n",
              "    height: 32px;\n",
              "    padding: 0;\n",
              "    width: 32px;\n",
              "  }\n",
              "\n",
              "  .colab-df-quickchart:hover {\n",
              "    background-color: var(--hover-bg-color);\n",
              "    box-shadow: 0 1px 2px rgba(60, 64, 67, 0.3), 0 1px 3px 1px rgba(60, 64, 67, 0.15);\n",
              "    fill: var(--button-hover-fill-color);\n",
              "  }\n",
              "\n",
              "  .colab-df-quickchart-complete:disabled,\n",
              "  .colab-df-quickchart-complete:disabled:hover {\n",
              "    background-color: var(--disabled-bg-color);\n",
              "    fill: var(--disabled-fill-color);\n",
              "    box-shadow: none;\n",
              "  }\n",
              "\n",
              "  .colab-df-spinner {\n",
              "    border: 2px solid var(--fill-color);\n",
              "    border-color: transparent;\n",
              "    border-bottom-color: var(--fill-color);\n",
              "    animation:\n",
              "      spin 1s steps(1) infinite;\n",
              "  }\n",
              "\n",
              "  @keyframes spin {\n",
              "    0% {\n",
              "      border-color: transparent;\n",
              "      border-bottom-color: var(--fill-color);\n",
              "      border-left-color: var(--fill-color);\n",
              "    }\n",
              "    20% {\n",
              "      border-color: transparent;\n",
              "      border-left-color: var(--fill-color);\n",
              "      border-top-color: var(--fill-color);\n",
              "    }\n",
              "    30% {\n",
              "      border-color: transparent;\n",
              "      border-left-color: var(--fill-color);\n",
              "      border-top-color: var(--fill-color);\n",
              "      border-right-color: var(--fill-color);\n",
              "    }\n",
              "    40% {\n",
              "      border-color: transparent;\n",
              "      border-right-color: var(--fill-color);\n",
              "      border-top-color: var(--fill-color);\n",
              "    }\n",
              "    60% {\n",
              "      border-color: transparent;\n",
              "      border-right-color: var(--fill-color);\n",
              "    }\n",
              "    80% {\n",
              "      border-color: transparent;\n",
              "      border-right-color: var(--fill-color);\n",
              "      border-bottom-color: var(--fill-color);\n",
              "    }\n",
              "    90% {\n",
              "      border-color: transparent;\n",
              "      border-bottom-color: var(--fill-color);\n",
              "    }\n",
              "  }\n",
              "</style>\n",
              "\n",
              "  <script>\n",
              "    async function quickchart(key) {\n",
              "      const quickchartButtonEl =\n",
              "        document.querySelector('#' + key + ' button');\n",
              "      quickchartButtonEl.disabled = true;  // To prevent multiple clicks.\n",
              "      quickchartButtonEl.classList.add('colab-df-spinner');\n",
              "      try {\n",
              "        const charts = await google.colab.kernel.invokeFunction(\n",
              "            'suggestCharts', [key], {});\n",
              "      } catch (error) {\n",
              "        console.error('Error during call to suggestCharts:', error);\n",
              "      }\n",
              "      quickchartButtonEl.classList.remove('colab-df-spinner');\n",
              "      quickchartButtonEl.classList.add('colab-df-quickchart-complete');\n",
              "    }\n",
              "    (() => {\n",
              "      let quickchartButtonEl =\n",
              "        document.querySelector('#df-d732afd4-4f7c-44c9-90cb-159719d052db button');\n",
              "      quickchartButtonEl.style.display =\n",
              "        google.colab.kernel.accessAllowed ? 'block' : 'none';\n",
              "    })();\n",
              "  </script>\n",
              "</div>\n",
              "\n",
              "    </div>\n",
              "  </div>\n"
            ],
            "application/vnd.google.colaboratory.intrinsic+json": {
              "type": "dataframe",
              "summary": "{\n  \"name\": \"merged_hourly\",\n  \"rows\": 22099,\n  \"fields\": [\n    {\n      \"column\": \"Id\",\n      \"properties\": {\n        \"dtype\": \"number\",\n        \"std\": 2422500401,\n        \"min\": 1503960366,\n        \"max\": 8877689391,\n        \"num_unique_values\": 33,\n        \"samples\": [\n          8792009665,\n          4388161847,\n          7086361926\n        ],\n        \"semantic_type\": \"\",\n        \"description\": \"\"\n      }\n    },\n    {\n      \"column\": \"ActivityHour\",\n      \"properties\": {\n        \"dtype\": \"date\",\n        \"min\": \"2016-04-12 00:00:00\",\n        \"max\": \"2016-05-12 15:00:00\",\n        \"num_unique_values\": 736,\n        \"samples\": [\n          \"2016-05-09 21:00:00\",\n          \"2016-04-13 09:00:00\",\n          \"2016-05-04 21:00:00\"\n        ],\n        \"semantic_type\": \"\",\n        \"description\": \"\"\n      }\n    },\n    {\n      \"column\": \"TotalIntensity\",\n      \"properties\": {\n        \"dtype\": \"number\",\n        \"std\": 21,\n        \"min\": 0,\n        \"max\": 180,\n        \"num_unique_values\": 175,\n        \"samples\": [\n          156,\n          125,\n          94\n        ],\n        \"semantic_type\": \"\",\n        \"description\": \"\"\n      }\n    },\n    {\n      \"column\": \"AverageIntensity\",\n      \"properties\": {\n        \"dtype\": \"number\",\n        \"std\": 0.3522185037617422,\n        \"min\": 0.0,\n        \"max\": 3.0,\n        \"num_unique_values\": 175,\n        \"samples\": [\n          2.6,\n          2.083333,\n          1.566667\n        ],\n        \"semantic_type\": \"\",\n        \"description\": \"\"\n      }\n    },\n    {\n      \"column\": \"Calories\",\n      \"properties\": {\n        \"dtype\": \"number\",\n        \"std\": 60,\n        \"min\": 42,\n        \"max\": 948,\n        \"num_unique_values\": 442,\n        \"samples\": [\n          304,\n          184,\n          143\n        ],\n        \"semantic_type\": \"\",\n        \"description\": \"\"\n      }\n    },\n    {\n      \"column\": \"StepTotal\",\n      \"properties\": {\n        \"dtype\": \"number\",\n        \"std\": 690,\n        \"min\": 0,\n        \"max\": 10554,\n        \"num_unique_values\": 2222,\n        \"samples\": [\n          13,\n          1747,\n          5921\n        ],\n        \"semantic_type\": \"\",\n        \"description\": \"\"\n      }\n    }\n  ]\n}"
            }
          },
          "metadata": {},
          "execution_count": 103
        }
      ]
    },
    {
      "cell_type": "markdown",
      "source": [
        "* Getting the Info of merged hourly data"
      ],
      "metadata": {
        "id": "l-FuF27c9G8k"
      }
    },
    {
      "cell_type": "code",
      "source": [
        "merged_hourly.info()"
      ],
      "metadata": {
        "colab": {
          "base_uri": "https://localhost:8080/"
        },
        "id": "8mODZNfV9GVx",
        "outputId": "bf3e5c68-e2d7-4d52-d474-9cbc176f2502"
      },
      "execution_count": 104,
      "outputs": [
        {
          "output_type": "stream",
          "name": "stdout",
          "text": [
            "<class 'pandas.core.frame.DataFrame'>\n",
            "RangeIndex: 22099 entries, 0 to 22098\n",
            "Data columns (total 6 columns):\n",
            " #   Column            Non-Null Count  Dtype         \n",
            "---  ------            --------------  -----         \n",
            " 0   Id                22099 non-null  int64         \n",
            " 1   ActivityHour      22099 non-null  datetime64[ns]\n",
            " 2   TotalIntensity    22099 non-null  int64         \n",
            " 3   AverageIntensity  22099 non-null  float64       \n",
            " 4   Calories          22099 non-null  int64         \n",
            " 5   StepTotal         22099 non-null  int64         \n",
            "dtypes: datetime64[ns](1), float64(1), int64(4)\n",
            "memory usage: 1.0 MB\n"
          ]
        }
      ]
    },
    {
      "cell_type": "markdown",
      "source": [
        "* Getting the 5 Datasets Of minutes datasets"
      ],
      "metadata": {
        "id": "YCjK5Wcs9YBh"
      }
    },
    {
      "cell_type": "code",
      "source": [
        "print(mc.head())\n",
        "print(mi.head())\n",
        "print(mst.head())\n",
        "print(mm.head())\n",
        "print(msl.head())\n"
      ],
      "metadata": {
        "colab": {
          "base_uri": "https://localhost:8080/"
        },
        "id": "MR3gYLcs9c9E",
        "outputId": "d61ca448-9abf-41f8-d70e-250f09fe4378"
      },
      "execution_count": 105,
      "outputs": [
        {
          "output_type": "stream",
          "name": "stdout",
          "text": [
            "           Id         ActivityMinute  Calories\n",
            "0  1503960366  4/12/2016 12:00:00 AM    0.7865\n",
            "1  1503960366  4/12/2016 12:01:00 AM    0.7865\n",
            "2  1503960366  4/12/2016 12:02:00 AM    0.7865\n",
            "3  1503960366  4/12/2016 12:03:00 AM    0.7865\n",
            "4  1503960366  4/12/2016 12:04:00 AM    0.7865\n",
            "           Id         ActivityMinute  Intensity\n",
            "0  1503960366  4/12/2016 12:00:00 AM          0\n",
            "1  1503960366  4/12/2016 12:01:00 AM          0\n",
            "2  1503960366  4/12/2016 12:02:00 AM          0\n",
            "3  1503960366  4/12/2016 12:03:00 AM          0\n",
            "4  1503960366  4/12/2016 12:04:00 AM          0\n",
            "           Id         ActivityMinute  Steps\n",
            "0  1503960366  4/12/2016 12:00:00 AM      0\n",
            "1  1503960366  4/12/2016 12:01:00 AM      0\n",
            "2  1503960366  4/12/2016 12:02:00 AM      0\n",
            "3  1503960366  4/12/2016 12:03:00 AM      0\n",
            "4  1503960366  4/12/2016 12:04:00 AM      0\n",
            "           Id         ActivityMinute  METs\n",
            "0  1503960366  4/12/2016 12:00:00 AM    10\n",
            "1  1503960366  4/12/2016 12:01:00 AM    10\n",
            "2  1503960366  4/12/2016 12:02:00 AM    10\n",
            "3  1503960366  4/12/2016 12:03:00 AM    10\n",
            "4  1503960366  4/12/2016 12:04:00 AM    10\n",
            "           Id                  date  value        logId\n",
            "0  1503960366  4/12/2016 2:47:30 AM      3  11380564589\n",
            "1  1503960366  4/12/2016 2:48:30 AM      2  11380564589\n",
            "2  1503960366  4/12/2016 2:49:30 AM      1  11380564589\n",
            "3  1503960366  4/12/2016 2:50:30 AM      1  11380564589\n",
            "4  1503960366  4/12/2016 2:51:30 AM      1  11380564589\n"
          ]
        }
      ]
    },
    {
      "cell_type": "markdown",
      "source": [
        "* Converting the necessary columns in 'datetime' type"
      ],
      "metadata": {
        "id": "QZBlVggu9wy9"
      }
    },
    {
      "cell_type": "code",
      "source": [
        "mi['ActivityMinute'] = pd.to_datetime(mi['ActivityMinute'])\n",
        "mm['ActivityMinute'] = pd.to_datetime(mm['ActivityMinute'])\n",
        "mst['ActivityMinute'] = pd.to_datetime(mst['ActivityMinute'])\n",
        "mc['ActivityMinute'] = pd.to_datetime(mc['ActivityMinute'])\n",
        "msl['date'] = pd.to_datetime(msl['date'])"
      ],
      "metadata": {
        "id": "CUbVfDFC94jT",
        "colab": {
          "base_uri": "https://localhost:8080/"
        },
        "outputId": "dd078330-414e-4895-85d6-fd7951c6fa68"
      },
      "execution_count": 106,
      "outputs": [
        {
          "metadata": {
            "tags": null
          },
          "name": "stderr",
          "output_type": "stream",
          "text": [
            "<ipython-input-106-16ea0dce96c2>:1: UserWarning: Could not infer format, so each element will be parsed individually, falling back to `dateutil`. To ensure parsing is consistent and as-expected, please specify a format.\n",
            "  mi['ActivityMinute'] = pd.to_datetime(mi['ActivityMinute'])\n",
            "<ipython-input-106-16ea0dce96c2>:2: UserWarning: Could not infer format, so each element will be parsed individually, falling back to `dateutil`. To ensure parsing is consistent and as-expected, please specify a format.\n",
            "  mm['ActivityMinute'] = pd.to_datetime(mm['ActivityMinute'])\n",
            "<ipython-input-106-16ea0dce96c2>:3: UserWarning: Could not infer format, so each element will be parsed individually, falling back to `dateutil`. To ensure parsing is consistent and as-expected, please specify a format.\n",
            "  mst['ActivityMinute'] = pd.to_datetime(mst['ActivityMinute'])\n",
            "<ipython-input-106-16ea0dce96c2>:4: UserWarning: Could not infer format, so each element will be parsed individually, falling back to `dateutil`. To ensure parsing is consistent and as-expected, please specify a format.\n",
            "  mc['ActivityMinute'] = pd.to_datetime(mc['ActivityMinute'])\n"
          ]
        }
      ]
    },
    {
      "cell_type": "markdown",
      "source": [
        "* Merging the Minute-datasets based on 'Id' and 'ActivityMinute'"
      ],
      "metadata": {
        "id": "IzXp9e73BT9o"
      }
    },
    {
      "cell_type": "code",
      "source": [
        "merged_minute = pd.merge(mi, mm, on=['Id', 'ActivityMinute'], how='left')\n",
        "merged_minute = pd.merge(merged_minute, mst, on=['Id', 'ActivityMinute'], how='left')\n",
        "merged_minute = pd.merge(merged_minute, mc, on=['Id', 'ActivityMinute'], how='left')"
      ],
      "metadata": {
        "id": "515o1nbEBVLS"
      },
      "execution_count": 107,
      "outputs": []
    },
    {
      "cell_type": "markdown",
      "source": [
        "* Getting the info of minute dataset with 5 datasets"
      ],
      "metadata": {
        "id": "Z4XH28noBsJV"
      }
    },
    {
      "cell_type": "code",
      "source": [
        "merged_minute.info()\n",
        "print(merged_minute.head())"
      ],
      "metadata": {
        "colab": {
          "base_uri": "https://localhost:8080/"
        },
        "id": "vkjHKFqQBwnt",
        "outputId": "9f8fc0ac-9426-4305-9d4f-7322a0020630"
      },
      "execution_count": 108,
      "outputs": [
        {
          "output_type": "stream",
          "name": "stdout",
          "text": [
            "<class 'pandas.core.frame.DataFrame'>\n",
            "RangeIndex: 1325580 entries, 0 to 1325579\n",
            "Data columns (total 6 columns):\n",
            " #   Column          Non-Null Count    Dtype         \n",
            "---  ------          --------------    -----         \n",
            " 0   Id              1325580 non-null  int64         \n",
            " 1   ActivityMinute  1325580 non-null  datetime64[ns]\n",
            " 2   Intensity       1325580 non-null  int64         \n",
            " 3   METs            1325580 non-null  int64         \n",
            " 4   Steps           1325580 non-null  int64         \n",
            " 5   Calories        1325580 non-null  float64       \n",
            "dtypes: datetime64[ns](1), float64(1), int64(4)\n",
            "memory usage: 60.7 MB\n",
            "           Id      ActivityMinute  Intensity  METs  Steps  Calories\n",
            "0  1503960366 2016-04-12 00:00:00          0    10      0    0.7865\n",
            "1  1503960366 2016-04-12 00:01:00          0    10      0    0.7865\n",
            "2  1503960366 2016-04-12 00:02:00          0    10      0    0.7865\n",
            "3  1503960366 2016-04-12 00:03:00          0    10      0    0.7865\n",
            "4  1503960366 2016-04-12 00:04:00          0    10      0    0.7865\n"
          ]
        }
      ]
    },
    {
      "cell_type": "markdown",
      "source": [
        "* Getting the 5 Datasets of Other Datasets"
      ],
      "metadata": {
        "id": "lppdjKKNCH09"
      }
    },
    {
      "cell_type": "code",
      "source": [
        "print(sd.head())\n"
      ],
      "metadata": {
        "colab": {
          "base_uri": "https://localhost:8080/"
        },
        "id": "52DMpgq5CSbo",
        "outputId": "c89dab9d-6d93-43e6-b3bd-4204d75eebe9"
      },
      "execution_count": 109,
      "outputs": [
        {
          "output_type": "stream",
          "name": "stdout",
          "text": [
            "           Id               SleepDay  TotalSleepRecords  TotalMinutesAsleep  \\\n",
            "0  1503960366  4/12/2016 12:00:00 AM                  1                 327   \n",
            "1  1503960366  4/13/2016 12:00:00 AM                  2                 384   \n",
            "2  1503960366  4/15/2016 12:00:00 AM                  1                 412   \n",
            "3  1503960366  4/16/2016 12:00:00 AM                  2                 340   \n",
            "4  1503960366  4/17/2016 12:00:00 AM                  1                 700   \n",
            "\n",
            "   TotalTimeInBed  \n",
            "0             346  \n",
            "1             407  \n",
            "2             442  \n",
            "3             367  \n",
            "4             712  \n"
          ]
        }
      ]
    },
    {
      "cell_type": "code",
      "source": [
        "print(wl.head())"
      ],
      "metadata": {
        "colab": {
          "base_uri": "https://localhost:8080/"
        },
        "id": "JBJOhjV_CwNp",
        "outputId": "6a583ce3-5e9d-401e-d506-fcab62cdf95a"
      },
      "execution_count": 110,
      "outputs": [
        {
          "output_type": "stream",
          "name": "stdout",
          "text": [
            "           Id                   Date    WeightKg  WeightPounds   Fat  \\\n",
            "0  1503960366   5/2/2016 11:59:59 PM   52.599998    115.963147  22.0   \n",
            "1  1503960366   5/3/2016 11:59:59 PM   52.599998    115.963147   NaN   \n",
            "2  1927972279   4/13/2016 1:08:52 AM  133.500000    294.317120   NaN   \n",
            "3  2873212765  4/21/2016 11:59:59 PM   56.700001    125.002104   NaN   \n",
            "4  2873212765  5/12/2016 11:59:59 PM   57.299999    126.324875   NaN   \n",
            "\n",
            "         BMI  IsManualReport          LogId  \n",
            "0  22.650000            True  1462233599000  \n",
            "1  22.650000            True  1462319999000  \n",
            "2  47.540001           False  1460509732000  \n",
            "3  21.450001            True  1461283199000  \n",
            "4  21.690001            True  1463097599000  \n"
          ]
        }
      ]
    },
    {
      "cell_type": "code",
      "source": [
        "print(hr.head())"
      ],
      "metadata": {
        "colab": {
          "base_uri": "https://localhost:8080/"
        },
        "id": "XizXWsISCzHG",
        "outputId": "2f47bc7e-5c6a-4eb0-f671-0c0a27c56e37"
      },
      "execution_count": 111,
      "outputs": [
        {
          "metadata": {
            "tags": null
          },
          "name": "stdout",
          "output_type": "stream",
          "text": [
            "           Id                  Time  Value\n",
            "0  2022484408  4/12/2016 7:21:00 AM     97\n",
            "1  2022484408  4/12/2016 7:21:05 AM    102\n",
            "2  2022484408  4/12/2016 7:21:10 AM    105\n",
            "3  2022484408  4/12/2016 7:21:20 AM    103\n",
            "4  2022484408  4/12/2016 7:21:25 AM    101\n"
          ]
        }
      ]
    },
    {
      "cell_type": "markdown",
      "source": [
        "* Converting neccessary columns to 'datetime' type"
      ],
      "metadata": {
        "id": "u34StLxlC84I"
      }
    },
    {
      "cell_type": "code",
      "source": [
        "wl['Date'] = pd.to_datetime(wl['Date'])\n",
        "hr['Time'] = pd.to_datetime(hr['Time'])\n",
        "sd['SleepDay'] = pd.to_datetime(sd['SleepDay'])"
      ],
      "metadata": {
        "id": "Ho02WgeAC9xl",
        "colab": {
          "base_uri": "https://localhost:8080/"
        },
        "outputId": "244407dc-cf50-4c92-fc9f-3b44735ae609"
      },
      "execution_count": 112,
      "outputs": [
        {
          "output_type": "stream",
          "name": "stderr",
          "text": [
            "<ipython-input-112-81b8bcd384c3>:1: UserWarning: Could not infer format, so each element will be parsed individually, falling back to `dateutil`. To ensure parsing is consistent and as-expected, please specify a format.\n",
            "  wl['Date'] = pd.to_datetime(wl['Date'])\n",
            "<ipython-input-112-81b8bcd384c3>:3: UserWarning: Could not infer format, so each element will be parsed individually, falling back to `dateutil`. To ensure parsing is consistent and as-expected, please specify a format.\n",
            "  sd['SleepDay'] = pd.to_datetime(sd['SleepDay'])\n"
          ]
        }
      ]
    },
    {
      "cell_type": "markdown",
      "source": [
        "* Getting the info about the other datasets"
      ],
      "metadata": {
        "id": "S1-CG6wkDtVf"
      }
    },
    {
      "cell_type": "code",
      "source": [
        "wl.info()"
      ],
      "metadata": {
        "id": "Vvrhm2UODxg9"
      },
      "execution_count": null,
      "outputs": []
    },
    {
      "cell_type": "code",
      "source": [
        "hr.info()"
      ],
      "metadata": {
        "colab": {
          "base_uri": "https://localhost:8080/"
        },
        "id": "fkYxeo0TD1Tq",
        "outputId": "0b112330-c77f-46fe-c168-513e864b71c0"
      },
      "execution_count": 114,
      "outputs": [
        {
          "output_type": "stream",
          "name": "stdout",
          "text": [
            "<class 'pandas.core.frame.DataFrame'>\n",
            "RangeIndex: 2483658 entries, 0 to 2483657\n",
            "Data columns (total 3 columns):\n",
            " #   Column  Dtype         \n",
            "---  ------  -----         \n",
            " 0   Id      int64         \n",
            " 1   Time    datetime64[ns]\n",
            " 2   Value   int64         \n",
            "dtypes: datetime64[ns](1), int64(2)\n",
            "memory usage: 56.8 MB\n"
          ]
        }
      ]
    },
    {
      "cell_type": "code",
      "source": [
        "sd.info()"
      ],
      "metadata": {
        "colab": {
          "base_uri": "https://localhost:8080/"
        },
        "id": "TzjeuhhFD4Iq",
        "outputId": "0f2001a6-c760-4ea5-aae7-29d5efd0bdfa"
      },
      "execution_count": 115,
      "outputs": [
        {
          "metadata": {
            "tags": null
          },
          "name": "stdout",
          "output_type": "stream",
          "text": [
            "<class 'pandas.core.frame.DataFrame'>\n",
            "RangeIndex: 413 entries, 0 to 412\n",
            "Data columns (total 5 columns):\n",
            " #   Column              Non-Null Count  Dtype         \n",
            "---  ------              --------------  -----         \n",
            " 0   Id                  413 non-null    int64         \n",
            " 1   SleepDay            413 non-null    datetime64[ns]\n",
            " 2   TotalSleepRecords   413 non-null    int64         \n",
            " 3   TotalMinutesAsleep  413 non-null    int64         \n",
            " 4   TotalTimeInBed      413 non-null    int64         \n",
            "dtypes: datetime64[ns](1), int64(4)\n",
            "memory usage: 16.3 KB\n"
          ]
        }
      ]
    },
    {
      "cell_type": "markdown",
      "source": [
        "\n",
        "\n",
        "---\n",
        "\n"
      ],
      "metadata": {
        "id": "FFt7K3MsD_dR"
      }
    },
    {
      "cell_type": "markdown",
      "source": [
        "# **Final datasets obtained**\n",
        "\n",
        "\n",
        "\n",
        "* merged_daily : Containing all daily data\n",
        "* merged_hourly : Containing all hourly data\n",
        "* merged_minute : Containing all minute data\n",
        "* hr : Containing Heart Rate data\n",
        "* wl : Containing Weight Log data\n",
        "* sd : Containing Sleep Day data\n",
        "* msl : Containing Sleep Day data for minutes\n",
        "\n",
        "\n"
      ],
      "metadata": {
        "id": "dwmGG77oEA3l"
      }
    },
    {
      "cell_type": "markdown",
      "source": [
        "\n",
        "\n",
        "---\n",
        "\n"
      ],
      "metadata": {
        "id": "9TltAxBLEbNC"
      }
    },
    {
      "cell_type": "markdown",
      "source": [
        "# **Importing the Datasets for visulization**"
      ],
      "metadata": {
        "id": "QfwRqvuQGW3Y"
      }
    },
    {
      "cell_type": "code",
      "source": [
        "import os\n",
        "from google.colab import drive\n",
        "drive.mount('/content/drive')"
      ],
      "metadata": {
        "id": "PQJ0yJWeHN3j"
      },
      "execution_count": null,
      "outputs": []
    },
    {
      "cell_type": "code",
      "source": [
        "# Creating a file paths by joining the directory path and file name\n",
        "file_path = os.path.join('/content/drive/MyDrive', 'merged_daily.csv')\n",
        "file_path_1 = os.path.join('/content/drive/MyDrive', 'merged_hourly.csv')\n",
        "file_path_2 = os.path.join('/content/drive/MyDrive', 'merged_minute.csv')\n",
        "file_path_3 = os.path.join('/content/drive/MyDrive', 'hr.csv')\n",
        "file_path_4 = os.path.join('/content/drive/MyDrive', 'wl.csv')\n",
        "file_path_5 = os.path.join('/content/drive/MyDrive', 'sd.csv')\n",
        "file_path_6 = os.path.join('/content/drive/MyDrive', 'msl.csv')\n",
        "\n",
        "# Save the DataFrames to the files\n",
        "merged_daily.to_csv(file_path, index=False)\n",
        "merged_hourly.to_csv(file_path_1, index=False)\n",
        "merged_minute.to_csv(file_path_2, index=False)\n",
        "hr.to_csv(file_path_3, index=False)\n",
        "wl.to_csv(file_path_4, index=False)\n",
        "sd.to_csv(file_path_5, index=False)\n",
        "msl.to_csv(file_path_6, index=False)"
      ],
      "metadata": {
        "id": "hVRRxd5MGd06"
      },
      "execution_count": null,
      "outputs": []
    },
    {
      "cell_type": "markdown",
      "source": [
        "\n",
        "\n",
        "---\n",
        "\n"
      ],
      "metadata": {
        "id": "3-fWxRt_KlYB"
      }
    }
  ]
}